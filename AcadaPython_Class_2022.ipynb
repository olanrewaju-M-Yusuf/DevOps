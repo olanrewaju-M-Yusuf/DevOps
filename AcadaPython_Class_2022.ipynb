{
 "cells": [
  {
   "cell_type": "markdown",
   "metadata": {},
   "source": [
    "Agenda for the Python Training Program:\n",
    "\n",
    "https://pythoninstitute.org/pcep\n",
    "\n",
    "LECTURE ONE:\t2 - 3 hours Tuesday November 15th, 2022 at 7pm - 10pm MST\n",
    "1.1 Introduction to Python\n",
    "- Definition\n",
    "What is Python:\n",
    "Python is a high level general purpose programming language. \n",
    "Python is general purpose because it can be used in various \n",
    "occupations by software engineers, data analysts, mathematicians,\n",
    "scientists, accountants, network engineers, etc. In fact, \n",
    "Python is the ideal programming language to learn first.\n",
    "So with python, you can solve complex problems with just \n",
    "few lines of code. \n",
    "\n",
    "- Use Cases\n",
    "Application Areas of Python:\n",
    "Web-application development\n",
    "API Development\n",
    "Data Analysis\n",
    "Artificial Intelligence\n",
    ".\n",
    ".\n",
    ". \n",
    "Automation (This is what matters to us as DevOps Engineers)\n",
    "\n",
    "- Python Installation \n",
    "*We are using VSCode for hands-on practice. \n",
    "Useful code editors to have: 1. Pycharm     2. Sublime      3. Atom\n",
    "\n",
    "- Popular Organisations that use Pythong\n",
    "Five most popular companies that use Python:\n",
    "  1. Youtube\n",
    "  2. Spotify\n",
    "  3. Instagram\n",
    "  4. Dropbox\n",
    "  5. Pinterest \n",
    "  6. Facebook\n",
    "\n",
    "  What makes Python very popular:\n",
    "  - easy to learn\n",
    "  - pre-defined and third party modules (samples) to use. 147k modules\n",
    "  - code length is very short because of the availability of modules.\n",
    "  - platform independent. you can use it on any OS. \n",
    "  Python has been around for over 20 years.\n",
    "\n",
    "1.2 Print Functions \n",
    "1.3 Literals \n",
    "1.4 Arithmetric Operators \n",
    "1.5 Python Variables \n",
    "1.6 Input Functions \n",
    "1.7 String\n",
    "\n",
    "\n"
   ]
  },
  {
   "cell_type": "code",
   "execution_count": 2,
   "metadata": {},
   "outputs": [
    {
     "name": "stdout",
     "output_type": "stream",
     "text": [
      "Welcome to Acada Learning\n"
     ]
    }
   ],
   "source": [
    "# 1.2 Print Functions in Python\n",
    "# in bash we use echo \n",
    "# in python, we use print \n",
    "print(\"Welcome to Acada Learning\")"
   ]
  },
  {
   "cell_type": "code",
   "execution_count": 4,
   "metadata": {},
   "outputs": [
    {
     "name": "stdout",
     "output_type": "stream",
     "text": [
      "Welcome to Acada Learning\n"
     ]
    }
   ],
   "source": [
    "print('Welcome to Acada Learning')"
   ]
  },
  {
   "cell_type": "code",
   "execution_count": 7,
   "metadata": {},
   "outputs": [
    {
     "name": "stdout",
     "output_type": "stream",
     "text": [
      "Welcomne to Acada Learning Comrades\n"
     ]
    }
   ],
   "source": [
    "print(\"Welcomne\", \"to\", \"Acada\", \"Learning\", \"Comrades\")"
   ]
  },
  {
   "cell_type": "markdown",
   "metadata": {},
   "source": [
    "Key word arguments to print functions:\n",
    "    Keyword arguments (or named arguments) are values that, \n",
    "    when passed into a function, are identifiable by specific \n",
    "    parameter names. A keyword argument is preceded by a parameter \n",
    "    and the assignment operator, =.\n",
    "1. end=\"\"\n",
    "2. sep=\"\""
   ]
  },
  {
   "cell_type": "code",
   "execution_count": 12,
   "metadata": {},
   "outputs": [
    {
     "name": "stdout",
     "output_type": "stream",
     "text": [
      "Hello! Python is a great programming language\n"
     ]
    }
   ],
   "source": [
    "print(\"Hello\", end=\"! \");\\\n",
    "    print(\"Python is a great programming language\")"
   ]
  },
  {
   "cell_type": "code",
   "execution_count": 16,
   "metadata": {},
   "outputs": [
    {
     "name": "stdout",
     "output_type": "stream",
     "text": [
      "Hello! DevOps Engineers Cheers\n",
      "So, are you enjoying python so far? I guess YOU ARE"
     ]
    }
   ],
   "source": [
    "print(\"Hello\", \"DevOps Engineers\", sep=\"! \", end=\" Cheers\\n\");\\\n",
    "    print(\"So\", \"are you enjoying python so far?\", sep=\", \", end=\" I guess YOU ARE\")"
   ]
  },
  {
   "cell_type": "markdown",
   "metadata": {},
   "source": [
    "Assignment 1\n",
    "a. print(1, 2, 3, 4, sep='#', end='&')\n",
    "b. print(\"Hello\" + \" \" \"future\" + \" \" \"DevOps Engineers!\")\n",
    "c. print(\"My account balance is \" + 7000)\n"
   ]
  },
  {
   "cell_type": "code",
   "execution_count": 17,
   "metadata": {},
   "outputs": [
    {
     "name": "stdout",
     "output_type": "stream",
     "text": [
      "1#2#3#4&"
     ]
    }
   ],
   "source": [
    "print(1, 2, 3, 4, sep='#', end='&')"
   ]
  },
  {
   "cell_type": "code",
   "execution_count": 18,
   "metadata": {},
   "outputs": [
    {
     "name": "stdout",
     "output_type": "stream",
     "text": [
      "Hello future DevOps Engineers!\n"
     ]
    }
   ],
   "source": [
    "print(\"Hello\" + \" \" \"future\" + \" \" \"DevOps Engineers!\")"
   ]
  },
  {
   "cell_type": "code",
   "execution_count": 19,
   "metadata": {},
   "outputs": [
    {
     "ename": "TypeError",
     "evalue": "can only concatenate str (not \"int\") to str",
     "output_type": "error",
     "traceback": [
      "\u001b[1;31m---------------------------------------------------------------------------\u001b[0m",
      "\u001b[1;31mTypeError\u001b[0m                                 Traceback (most recent call last)",
      "\u001b[1;32mc:\\Users\\jngha\\OneDrive\\Desktop\\PythonTeach\\AcadaPython_Class_2022.ipynb Cell 12\u001b[0m in \u001b[0;36m<cell line: 1>\u001b[1;34m()\u001b[0m\n\u001b[1;32m----> <a href='vscode-notebook-cell:/c%3A/Users/jngha/OneDrive/Desktop/PythonTeach/AcadaPython_Class_2022.ipynb#X16sZmlsZQ%3D%3D?line=0'>1</a>\u001b[0m \u001b[39mprint\u001b[39m(\u001b[39m\"\u001b[39;49m\u001b[39mMy account balance is \u001b[39;49m\u001b[39m\"\u001b[39;49m \u001b[39m+\u001b[39;49m \u001b[39m7000\u001b[39;49m)\n",
      "\u001b[1;31mTypeError\u001b[0m: can only concatenate str (not \"int\") to str"
     ]
    }
   ],
   "source": [
    "print(\"My account balance is \" + 7000)"
   ]
  },
  {
   "cell_type": "markdown",
   "metadata": {},
   "source": [
    "1.3 LITERALS \n",
    "1. Integers  aka int\n",
    "eg. 1, 2, ......., 90, ......, 180,000\n",
    "When dealing with integers you don't need a quotation mark\n",
    "\n",
    "2. Floating Point Numbers (Float) aka fl\n",
    "eg. 1.1, ....., 52.08, ......, infinity\n",
    "When dealing with floats you don't need a quotation mark\n",
    "\n",
    "3. Strings aka str\n",
    "eg. mango, winter, money, DevOps Engineer, etc\n",
    "We need a single or double quotation\n",
    "\n",
    "4. Booleans aka bool\n",
    "eg. True and False\n",
    "Numeric false 0\n",
    "Numeric true 1 \n",
    "no quotation mark is needed"
   ]
  },
  {
   "cell_type": "code",
   "execution_count": 20,
   "metadata": {},
   "outputs": [
    {
     "name": "stdout",
     "output_type": "stream",
     "text": [
      "<class 'str'>\n"
     ]
    }
   ],
   "source": [
    "print(type(\"hello\"))"
   ]
  },
  {
   "cell_type": "code",
   "execution_count": 21,
   "metadata": {},
   "outputs": [
    {
     "name": "stdout",
     "output_type": "stream",
     "text": [
      "<class 'float'>\n"
     ]
    }
   ],
   "source": [
    "print(type(45.55))"
   ]
  },
  {
   "cell_type": "code",
   "execution_count": 22,
   "metadata": {},
   "outputs": [
    {
     "name": "stdout",
     "output_type": "stream",
     "text": [
      "<class 'int'>\n"
     ]
    }
   ],
   "source": [
    "print(type(3_00_0000_000))"
   ]
  },
  {
   "cell_type": "code",
   "execution_count": 23,
   "metadata": {},
   "outputs": [
    {
     "data": {
      "text/plain": [
       "int"
      ]
     },
     "execution_count": 23,
     "metadata": {},
     "output_type": "execute_result"
    }
   ],
   "source": [
    "(type(3_00_0000_000))"
   ]
  },
  {
   "cell_type": "markdown",
   "metadata": {},
   "source": [
    "1.4 ARITHMETRIC OPERATORS \n",
    "Addition +\n",
    "eg. print(2 + 4)  ==>> output is 6\n",
    "\n",
    "Subtraction - \n",
    "eg. print(8 - 2)  ==>> output 6\n",
    "\n",
    "Multiplication * \n",
    "eg. print(3 * 2)  ==>> output 6\n",
    "\n",
    "Division /          NB: Whenever you use a division, the output would be a float\n",
    "eg. print(12 / 2) ==> output 6\n",
    "eg. print(13 / 2) ==> output 6.5\n",
    "\n",
    "Floor or Double Division //         NB: This will always produce a whole number\n",
    "eg. print(13 // 2)  ==> output 6\n",
    "\n",
    "Modular Operator %\n",
    "eg. print(15 % 4)  ==> output 3\n",
    "\n",
    "Exponential/Power Operator **\n",
    "eg. print(2 ** 3)  ==> output 8\n",
    "\n",
    "NB: Python uses what we call BODMAS in Math in performing Arithmetric Operations\n",
    "B = Brackets\n",
    "O = Orders (indices or powers or roots)\n",
    "D = Division \n",
    "M = Multiplication\n",
    "A = Addition\n",
    "S = Subtraction \n"
   ]
  },
  {
   "cell_type": "code",
   "execution_count": 24,
   "metadata": {},
   "outputs": [
    {
     "name": "stdout",
     "output_type": "stream",
     "text": [
      "162\n"
     ]
    }
   ],
   "source": [
    "print(2 * 3 ** 4)"
   ]
  },
  {
   "cell_type": "code",
   "execution_count": 26,
   "metadata": {},
   "outputs": [
    {
     "name": "stdout",
     "output_type": "stream",
     "text": [
      "-29.0\n"
     ]
    }
   ],
   "source": [
    "print(10 - 6 ** 2 / 9 * 10 + 1)"
   ]
  },
  {
   "cell_type": "code",
   "execution_count": 27,
   "metadata": {},
   "outputs": [
    {
     "name": "stdout",
     "output_type": "stream",
     "text": [
      "1.0\n"
     ]
    }
   ],
   "source": [
    "print(6. // 4)"
   ]
  },
  {
   "cell_type": "code",
   "execution_count": 28,
   "metadata": {},
   "outputs": [
    {
     "name": "stdout",
     "output_type": "stream",
     "text": [
      "10\n"
     ]
    }
   ],
   "source": [
    "print(2 * (2 + 3))"
   ]
  },
  {
   "cell_type": "code",
   "execution_count": 29,
   "metadata": {},
   "outputs": [
    {
     "name": "stdout",
     "output_type": "stream",
     "text": [
      "5.0\n"
     ]
    }
   ],
   "source": [
    "x = 10 / 4\n",
    "y = 5 / 2.0\n",
    "print(x + y)\n"
   ]
  },
  {
   "cell_type": "code",
   "execution_count": 30,
   "metadata": {},
   "outputs": [
    {
     "name": "stdout",
     "output_type": "stream",
     "text": [
      "4.25\n"
     ]
    }
   ],
   "source": [
    "print(13 / 4 + 13 % 4)"
   ]
  },
  {
   "cell_type": "markdown",
   "metadata": {},
   "source": [
    "1.5 PYTHON VARIABLES \n",
    "We use variables to temporarily store data in the compute memory. \n",
    "\n",
    "Python reads commands from top to bottom"
   ]
  },
  {
   "cell_type": "code",
   "execution_count": 31,
   "metadata": {},
   "outputs": [
    {
     "name": "stdout",
     "output_type": "stream",
     "text": [
      "30\n"
     ]
    }
   ],
   "source": [
    "age = 20\n",
    "age = 30\n",
    "print(age)"
   ]
  },
  {
   "cell_type": "markdown",
   "metadata": {},
   "source": [
    "Defining variables in Python\n",
    "Dela_Amos = \"cohort 8\"\n",
    "True, False, print, and, or, else, etc. We don't define python variables with the items on this line. \n"
   ]
  },
  {
   "cell_type": "code",
   "execution_count": 32,
   "metadata": {},
   "outputs": [
    {
     "name": "stdout",
     "output_type": "stream",
     "text": [
      "Orange\n",
      "Banana\n",
      "Cherry\n"
     ]
    }
   ],
   "source": [
    "x, y, z = \"Orange\", \"Banana\", \"Cherry\"\n",
    "print(x)\n",
    "print(y)\n",
    "print(z)"
   ]
  },
  {
   "cell_type": "code",
   "execution_count": 33,
   "metadata": {},
   "outputs": [
    {
     "name": "stdout",
     "output_type": "stream",
     "text": [
      "Orange Banana Cherry\n"
     ]
    }
   ],
   "source": [
    "x, y, z = \"Orange\", \"Banana\", \"Cherry\"\n",
    "print(x, y, z)"
   ]
  },
  {
   "cell_type": "code",
   "execution_count": 34,
   "metadata": {},
   "outputs": [
    {
     "name": "stdout",
     "output_type": "stream",
     "text": [
      "Acada\n"
     ]
    }
   ],
   "source": [
    "y = 5\n",
    "y = \"Acada\"\n",
    "print(y)"
   ]
  },
  {
   "cell_type": "code",
   "execution_count": 35,
   "metadata": {},
   "outputs": [
    {
     "name": "stdout",
     "output_type": "stream",
     "text": [
      "16\n"
     ]
    }
   ],
   "source": [
    "amount = 4 \n",
    "cost = 2\n",
    "cost += 2\n",
    "print(amount * cost)"
   ]
  },
  {
   "cell_type": "code",
   "execution_count": 1,
   "metadata": {},
   "outputs": [
    {
     "name": "stdout",
     "output_type": "stream",
     "text": [
      "55.0\n"
     ]
    }
   ],
   "source": [
    "age = 22 \n",
    "AGE = 44 \n",
    "age /= 2\n",
    "print(age + AGE)"
   ]
  },
  {
   "cell_type": "markdown",
   "metadata": {},
   "source": [
    "1.6 INPUT FUNCTIONS \n",
    "We use input functions to take inputs from users. \n",
    "\n",
    "In bash, we use ==== read\n",
    "In python, we use ==== input"
   ]
  },
  {
   "cell_type": "code",
   "execution_count": 40,
   "metadata": {},
   "outputs": [
    {
     "name": "stdout",
     "output_type": "stream",
     "text": [
      "Hey Abraham\n"
     ]
    }
   ],
   "source": [
    "name = input(\"What's your name? \")\n",
    "print(\"Hey \" + name)"
   ]
  },
  {
   "cell_type": "code",
   "execution_count": 41,
   "metadata": {},
   "outputs": [
    {
     "name": "stdout",
     "output_type": "stream",
     "text": [
      "Hey Tunde\n"
     ]
    },
    {
     "ename": "TypeError",
     "evalue": "unsupported operand type(s) for -: 'int' and 'str'",
     "output_type": "error",
     "traceback": [
      "\u001b[1;31m---------------------------------------------------------------------------\u001b[0m",
      "\u001b[1;31mTypeError\u001b[0m                                 Traceback (most recent call last)",
      "\u001b[1;32mc:\\Users\\jngha\\OneDrive\\Desktop\\PythonTeach\\AcadaPython_Class_2022.ipynb Cell 35\u001b[0m in \u001b[0;36m<cell line: 5>\u001b[1;34m()\u001b[0m\n\u001b[0;32m      <a href='vscode-notebook-cell:/c%3A/Users/jngha/OneDrive/Desktop/PythonTeach/AcadaPython_Class_2022.ipynb#X55sZmlsZQ%3D%3D?line=2'>3</a>\u001b[0m \u001b[39mprint\u001b[39m(\u001b[39m\"\u001b[39m\u001b[39mHey \u001b[39m\u001b[39m\"\u001b[39m \u001b[39m+\u001b[39m name)\n\u001b[0;32m      <a href='vscode-notebook-cell:/c%3A/Users/jngha/OneDrive/Desktop/PythonTeach/AcadaPython_Class_2022.ipynb#X55sZmlsZQ%3D%3D?line=3'>4</a>\u001b[0m birth_year \u001b[39m=\u001b[39m \u001b[39minput\u001b[39m(\u001b[39m\"\u001b[39m\u001b[39mPlease enter your year of birth: \u001b[39m\u001b[39m\"\u001b[39m)\n\u001b[1;32m----> <a href='vscode-notebook-cell:/c%3A/Users/jngha/OneDrive/Desktop/PythonTeach/AcadaPython_Class_2022.ipynb#X55sZmlsZQ%3D%3D?line=4'>5</a>\u001b[0m age \u001b[39m=\u001b[39m \u001b[39m2022\u001b[39;49m \u001b[39m-\u001b[39;49m birth_year\n\u001b[0;32m      <a href='vscode-notebook-cell:/c%3A/Users/jngha/OneDrive/Desktop/PythonTeach/AcadaPython_Class_2022.ipynb#X55sZmlsZQ%3D%3D?line=5'>6</a>\u001b[0m \u001b[39mprint\u001b[39m(age)\n",
      "\u001b[1;31mTypeError\u001b[0m: unsupported operand type(s) for -: 'int' and 'str'"
     ]
    }
   ],
   "source": [
    "# We want to write a code to compute users' ages\n",
    "name = input(\"What's your name? \")\n",
    "print(\"Hey \" + name)\n",
    "birth_year = input(\"Please enter your year of birth: \")\n",
    "age = 2022 - birth_year\n",
    "print(age)"
   ]
  },
  {
   "cell_type": "code",
   "execution_count": 42,
   "metadata": {},
   "outputs": [
    {
     "name": "stdout",
     "output_type": "stream",
     "text": [
      "Hey Susan\n",
      "52\n"
     ]
    }
   ],
   "source": [
    "name = input(\"What's your name? \")\n",
    "print(\"Hey \" + name)\n",
    "birth_year = int(input(\"Please enter your year of birth: \"))\n",
    "age = 2022 - birth_year\n",
    "print(age)"
   ]
  },
  {
   "cell_type": "code",
   "execution_count": 45,
   "metadata": {},
   "outputs": [
    {
     "name": "stdout",
     "output_type": "stream",
     "text": [
      "Hey Dela\n",
      "42\n"
     ]
    }
   ],
   "source": [
    "name = input(\"What's your name? \")\n",
    "print(\"Hey \" + name)\n",
    "birth_year = input(\"Please enter your year of birth: \")\n",
    "age = 2022 - int(birth_year)\n",
    "print(age)"
   ]
  },
  {
   "cell_type": "code",
   "execution_count": 47,
   "metadata": {},
   "outputs": [
    {
     "name": "stdout",
     "output_type": "stream",
     "text": [
      "Please follow the instructions on the screen to compute your numbers\n"
     ]
    },
    {
     "ename": "ValueError",
     "evalue": "invalid literal for int() with base 10: '10.2'",
     "output_type": "error",
     "traceback": [
      "\u001b[1;31m---------------------------------------------------------------------------\u001b[0m",
      "\u001b[1;31mValueError\u001b[0m                                Traceback (most recent call last)",
      "\u001b[1;32mc:\\Users\\jngha\\OneDrive\\Desktop\\PythonTeach\\AcadaPython_Class_2022.ipynb Cell 38\u001b[0m in \u001b[0;36m<cell line: 4>\u001b[1;34m()\u001b[0m\n\u001b[0;32m      <a href='vscode-notebook-cell:/c%3A/Users/jngha/OneDrive/Desktop/PythonTeach/AcadaPython_Class_2022.ipynb#X61sZmlsZQ%3D%3D?line=0'>1</a>\u001b[0m \u001b[39m# Let's write a simple code to be used as a calculator.\u001b[39;00m\n\u001b[0;32m      <a href='vscode-notebook-cell:/c%3A/Users/jngha/OneDrive/Desktop/PythonTeach/AcadaPython_Class_2022.ipynb#X61sZmlsZQ%3D%3D?line=2'>3</a>\u001b[0m \u001b[39mprint\u001b[39m(\u001b[39m\"\u001b[39m\u001b[39mPlease follow the instructions on the screen to compute your numbers\u001b[39m\u001b[39m\"\u001b[39m)\n\u001b[1;32m----> <a href='vscode-notebook-cell:/c%3A/Users/jngha/OneDrive/Desktop/PythonTeach/AcadaPython_Class_2022.ipynb#X61sZmlsZQ%3D%3D?line=3'>4</a>\u001b[0m first_num \u001b[39m=\u001b[39m \u001b[39mint\u001b[39;49m(\u001b[39minput\u001b[39;49m(\u001b[39m\"\u001b[39;49m\u001b[39mEnter your first number: \u001b[39;49m\u001b[39m\"\u001b[39;49m))\n\u001b[0;32m      <a href='vscode-notebook-cell:/c%3A/Users/jngha/OneDrive/Desktop/PythonTeach/AcadaPython_Class_2022.ipynb#X61sZmlsZQ%3D%3D?line=4'>5</a>\u001b[0m second_num \u001b[39m=\u001b[39m \u001b[39mint\u001b[39m(\u001b[39minput\u001b[39m(\u001b[39m\"\u001b[39m\u001b[39mEnter your second number: \u001b[39m\u001b[39m\"\u001b[39m))\n\u001b[0;32m      <a href='vscode-notebook-cell:/c%3A/Users/jngha/OneDrive/Desktop/PythonTeach/AcadaPython_Class_2022.ipynb#X61sZmlsZQ%3D%3D?line=5'>6</a>\u001b[0m \u001b[39msum\u001b[39m \u001b[39m=\u001b[39m first_num \u001b[39m+\u001b[39m second_num\n",
      "\u001b[1;31mValueError\u001b[0m: invalid literal for int() with base 10: '10.2'"
     ]
    }
   ],
   "source": [
    "# Let's write a simple code to be used as a calculator.\n",
    "\n",
    "print(\"Please follow the instructions on the screen to compute your numbers\")\n",
    "first_num = int(input(\"Enter your first number: \"))\n",
    "second_num = int(input(\"Enter your second number: \"))\n",
    "sum = first_num + second_num\n",
    "print(\"The sum of your two numbers is: \" + str(sum))"
   ]
  },
  {
   "cell_type": "code",
   "execution_count": 49,
   "metadata": {},
   "outputs": [
    {
     "name": "stdout",
     "output_type": "stream",
     "text": [
      "Please follow the instructions on the screen to compute your numbers\n",
      "The sum of your two numbers is: 30.0\n"
     ]
    }
   ],
   "source": [
    "print(\"Please follow the instructions on the screen to compute your numbers\")\n",
    "first_num = float(input(\"Enter your first number: \"))\n",
    "second_num = float(input(\"Enter your second number: \"))\n",
    "sum = first_num + second_num\n",
    "print(\"The sum of your two numbers is: \" + str(sum))"
   ]
  },
  {
   "cell_type": "markdown",
   "metadata": {},
   "source": [
    "Break Assignment: \n",
    "What is the output of the following code:\n",
    "\n",
    "inputString = input(\"Enter a string: \")\n",
    "print(inputString, sep='#', end='&')\n",
    "\n",
    "Take Home Assignment:\n",
    "In bash, when we want to take a secret text, we run read -s. \n",
    "How do we do the same in Python? "
   ]
  },
  {
   "cell_type": "code",
   "execution_count": 53,
   "metadata": {},
   "outputs": [
    {
     "name": "stdout",
     "output_type": "stream",
     "text": [
      "Acada # Learning &"
     ]
    }
   ],
   "source": [
    "inputString = input(\"Enter a string: \")\n",
    "do_it = input(\"Please enter what you want to do: \")\n",
    "print(inputString, do_it, sep=' # ', end=' &')"
   ]
  },
  {
   "cell_type": "markdown",
   "metadata": {},
   "source": [
    "1.7 STRING\n",
    "String is a collection of alphabets, words or other characters. \n",
    "It is one of the primitive data structures and are the building \n",
    "blocks for data manipulation. Python has a built-in string class \n",
    "named str . Python strings are \"immutable\" which means they cannot \n",
    "be changed after they are created.\n",
    "\n",
    "examples of strings: \n",
    "x = \"10.0.0.26\"\n",
    "y = \"50\"\n",
    "name = \"Acada Learning\" "
   ]
  },
  {
   "cell_type": "code",
   "execution_count": 2,
   "metadata": {},
   "outputs": [
    {
     "name": "stdout",
     "output_type": "stream",
     "text": [
      "18\n",
      "D\n",
      "i\n",
      "Dev\n",
      "DevOps Engineering\n",
      "DevOps Engineering\n",
      "Dev\n"
     ]
    }
   ],
   "source": [
    "course = \"DevOps Engineering\"\n",
    "print(len(course))\n",
    "print(course[0])\n",
    "print(course[-3])\n",
    "print(course[0:3])\n",
    "print(course[:])\n",
    "print(course[0:])\n",
    "print(course[:3])"
   ]
  },
  {
   "cell_type": "code",
   "execution_count": 3,
   "metadata": {},
   "outputs": [
    {
     "name": "stdout",
     "output_type": "stream",
     "text": [
      "Acada Learning\n"
     ]
    }
   ],
   "source": [
    "# Formatting Strings \n",
    "\n",
    "first = \"Acada\"\n",
    "last = \"Learning\"\n",
    "full = first + \" \" + last \n",
    "print(full)"
   ]
  },
  {
   "cell_type": "code",
   "execution_count": 6,
   "metadata": {},
   "outputs": [
    {
     "name": "stdout",
     "output_type": "stream",
     "text": [
      "Acada  Learning\n"
     ]
    }
   ],
   "source": [
    "first = \"Acada\"\n",
    "last = \"Learning\"\n",
    "print(f\"{first}  {last}\")"
   ]
  },
  {
   "cell_type": "markdown",
   "metadata": {},
   "source": [
    "                                                    STRING METHODS "
   ]
  },
  {
   "cell_type": "code",
   "execution_count": 14,
   "metadata": {},
   "outputs": [
    {
     "name": "stdout",
     "output_type": "stream",
     "text": [
      "ACADA LEARNING\n",
      "acada learning\n",
      "Acada Learning\n",
      "-1\n",
      "True\n",
      "Python Learning\n",
      "False\n"
     ]
    }
   ],
   "source": [
    "course = \"Acada Learning\"\n",
    "print(course.upper())\n",
    "print(course.lower())\n",
    "print(course.title())\n",
    "print(course.find(\"Eng\"))\n",
    "print(\"Learn\" in course)\n",
    "print(course.replace(\"Acada\", \"Python\"))\n",
    "print(\"Learning\" not in course)"
   ]
  },
  {
   "cell_type": "code",
   "execution_count": 16,
   "metadata": {},
   "outputs": [
    {
     "name": "stdout",
     "output_type": "stream",
     "text": [
      "111\n"
     ]
    }
   ],
   "source": [
    "Num = input(\"Enter a number: \")\n",
    "print(Num * 3)"
   ]
  },
  {
   "cell_type": "code",
   "execution_count": 17,
   "metadata": {},
   "outputs": [
    {
     "name": "stdout",
     "output_type": "stream",
     "text": [
      "5Francisca\n"
     ]
    }
   ],
   "source": [
    "x = 5\n",
    "y = \"Francisca\"\n",
    "print(str(x) + y)"
   ]
  },
  {
   "cell_type": "code",
   "execution_count": 18,
   "metadata": {},
   "outputs": [
    {
     "name": "stdout",
     "output_type": "stream",
     "text": [
      "Acada LearningAcada Learning\n"
     ]
    }
   ],
   "source": [
    "inputString = input(\"Enter a string: \")\n",
    "print(inputString * 2)"
   ]
  },
  {
   "cell_type": "markdown",
   "metadata": {},
   "source": [
    "                    END OF LECTURE ONE"
   ]
  },
  {
   "cell_type": "markdown",
   "metadata": {},
   "source": [
    "LECTURE TWO 2 - 3 Hours         Saturday November 19, 2022 (A day before world cup)\n",
    "\n",
    "2.1 Comparison Operators \n",
    "2.2 Conditional Statements \n",
    "2.3 Ternary Operator\n",
    "2.4 Loops \n",
    "2.5 Logial Operators \n"
   ]
  },
  {
   "cell_type": "markdown",
   "metadata": {},
   "source": [
    "2.1 COMPARISON OPERATORS \n",
    "Python supports the usual logical conditions in mathematics.\n",
    "\n",
    "Equals ==\n",
    "eg. a == b\n",
    "\n",
    "Not Equal !=\n",
    "eg. a != b\n",
    "\n",
    "Less than <\n",
    "eg. 5 < 6\n",
    "\n",
    "Less than or equal to   <=\n",
    "eg. 5 <= 6\n",
    "\n",
    "Greater than >\n",
    "eg. 6 > 5\n",
    "\n",
    "Greater than or equal to >=\n",
    "eg. 6 >= 5\n",
    "\n",
    "These conditions can be used in several ways, most commonly in \"if statements\" and \"Loops\""
   ]
  },
  {
   "cell_type": "code",
   "execution_count": 19,
   "metadata": {},
   "outputs": [
    {
     "name": "stdout",
     "output_type": "stream",
     "text": [
      "True\n"
     ]
    }
   ],
   "source": [
    "x = 6\n",
    "y = 7\n",
    "print(x != y)"
   ]
  },
  {
   "cell_type": "code",
   "execution_count": 22,
   "metadata": {},
   "outputs": [
    {
     "name": "stdout",
     "output_type": "stream",
     "text": [
      "23\n"
     ]
    }
   ],
   "source": [
    "y = 20\n",
    "y += 3\n",
    "x = y\n",
    "print(x)"
   ]
  },
  {
   "cell_type": "code",
   "execution_count": 23,
   "metadata": {},
   "outputs": [
    {
     "name": "stdout",
     "output_type": "stream",
     "text": [
      "False\n",
      "True\n"
     ]
    }
   ],
   "source": [
    "min_score = 13\n",
    "score = 13\n",
    "print(score > min_score)\n",
    "print(score <= min_score)"
   ]
  },
  {
   "cell_type": "code",
   "execution_count": 24,
   "metadata": {},
   "outputs": [
    {
     "name": "stdout",
     "output_type": "stream",
     "text": [
      "False\n"
     ]
    }
   ],
   "source": [
    "print(10 == \"10\")"
   ]
  },
  {
   "cell_type": "code",
   "execution_count": 25,
   "metadata": {},
   "outputs": [
    {
     "name": "stdout",
     "output_type": "stream",
     "text": [
      "True\n"
     ]
    }
   ],
   "source": [
    "print(\"bag\" > \"apple\")"
   ]
  },
  {
   "cell_type": "code",
   "execution_count": 30,
   "metadata": {},
   "outputs": [
    {
     "name": "stdout",
     "output_type": "stream",
     "text": [
      "True\n"
     ]
    }
   ],
   "source": [
    "print(\"bag\" > \"BAG\")"
   ]
  },
  {
   "cell_type": "code",
   "execution_count": 31,
   "metadata": {},
   "outputs": [
    {
     "data": {
      "text/plain": [
       "66"
      ]
     },
     "execution_count": 31,
     "metadata": {},
     "output_type": "execute_result"
    }
   ],
   "source": [
    "ord(\"B\")\n"
   ]
  },
  {
   "cell_type": "markdown",
   "metadata": {},
   "source": [
    "2.2 CONDITIONAL STATEMENTS \n",
    "A conditional statement as the name suggests itself, is used to handle conditions in your program. \n",
    "These statements guide the program while making decisions based on the conditions encountered by the program. \n",
    "Python has 3 key Conditional Statements that you should know: \n",
    "\n",
    "- If Statement\n",
    "- If-else Statement\n",
    "- If-elif-else statement"
   ]
  },
  {
   "cell_type": "markdown",
   "metadata": {},
   "source": [
    "2.2.1 IF STATEMENT\n",
    "The if statement is a conditional statement in python, \n",
    "that is used to determine whether a block of code will be executed or not. \n",
    "Meaning if the program finds the condition defined in the if statement to be true, \n",
    "it will go ahead and execute the code block inside the if statement.\n",
    "\n",
    "Syntax: \n",
    "if condition: \n",
    "    execute the code block here. "
   ]
  },
  {
   "cell_type": "code",
   "execution_count": 34,
   "metadata": {},
   "outputs": [
    {
     "name": "stdout",
     "output_type": "stream",
     "text": [
      "You are an adult\n",
      "Your age is: 20\n"
     ]
    }
   ],
   "source": [
    "age = int(input(\"How old are you? \"))\n",
    "if age >= 18:\n",
    "    print(\"You are an adult\")\n",
    "    print(\"Your age is: \" + str(age))"
   ]
  },
  {
   "cell_type": "code",
   "execution_count": 36,
   "metadata": {},
   "outputs": [
    {
     "name": "stdout",
     "output_type": "stream",
     "text": [
      "Your age is: 15\n"
     ]
    }
   ],
   "source": [
    "age = int(input(\"How old are you? \"))\n",
    "if age >= 18:\n",
    "    print(\"You are an adult\")\n",
    "print(\"Your age is: \" + str(age))"
   ]
  },
  {
   "cell_type": "code",
   "execution_count": 39,
   "metadata": {},
   "outputs": [
    {
     "name": "stdout",
     "output_type": "stream",
     "text": [
      "Z is an even number\n"
     ]
    }
   ],
   "source": [
    "z = 6\n",
    "if z % 2 == 0:\n",
    "    print(\"Z is an even number\")"
   ]
  },
  {
   "cell_type": "markdown",
   "metadata": {},
   "source": [
    "2.2.2 IF-ELSE STATEMENT\n",
    "As discussed above, the if statement executes the code block when the condition is true. \n",
    "Similarly, the else statement works in conjuncture with the if statement to execute a code block \n",
    "when the defined if condition is false.\n",
    "\n",
    "Syntax\n",
    "if condition:\n",
    "    execute cod if condition is true \n",
    "else: \n",
    "    execute the code if condition is False \n"
   ]
  },
  {
   "cell_type": "code",
   "execution_count": 41,
   "metadata": {},
   "outputs": [
    {
     "name": "stdout",
     "output_type": "stream",
     "text": [
      "You are a minor\n"
     ]
    }
   ],
   "source": [
    "age = int(input(\"How old are you? \"))\n",
    "if age >= 18:\n",
    "    print(\"You are an adult\")\n",
    "else:\n",
    "    print(\"You are a minor\")"
   ]
  },
  {
   "cell_type": "code",
   "execution_count": 42,
   "metadata": {},
   "outputs": [
    {
     "name": "stdout",
     "output_type": "stream",
     "text": [
      "Hello Welcome to Acada Learning. Please introduce yourself.\n",
      "You're not welcome to Acada Learning\n"
     ]
    }
   ],
   "source": [
    "print(\"Hello Welcome to Acada Learning. Please introduce yourself.\")\n",
    "name = input(\"What is your name?: \")\n",
    "if name == \"Zazu\":\n",
    "    print(\"You're not welcome to Acada Learning\")\n",
    "else: \n",
    "    print(\"Hello \" + name + \", thank you so much for coming\")"
   ]
  },
  {
   "cell_type": "code",
   "execution_count": 53,
   "metadata": {},
   "outputs": [
    {
     "name": "stdout",
     "output_type": "stream",
     "text": [
      "Your country is at the world cup\n"
     ]
    }
   ],
   "source": [
    "# List of African Countries at the World Cup\n",
    "\n",
    "af_qatar = [\"Ghana\", \"Morocco\", \"Senegal\", \"Cameroon\", \"Tunisia\"]\n",
    "af_country = input(\"Please enter the name of your country: \")\n",
    "if af_country in af_qatar:\n",
    "    print('Your country is at the world cup')\n",
    "else:\n",
    "    print('Unfortunately, your country could not qualify')\n"
   ]
  },
  {
   "cell_type": "markdown",
   "metadata": {},
   "source": [
    "2.2.3 IF-ELIF-ELSE STATEMENT OR LADDER\n",
    "The elif statement is used to check for multiple conditions and execute the code block \n",
    "within if any of the conditions is true.\n",
    "\n",
    "The elif statement is similar to the else statement in the context that it is optional \n",
    "but unlike the else statement, there can be multiple elif statements in a code block following an if statement.\n",
    "\n",
    "Syntax\n",
    "\n",
    "if condition1:\n",
    "    # execute this statement\n",
    "elif condition2:\n",
    "    # execute this statement\n",
    ".\n",
    ".\n",
    "else:\n",
    "    # if non of the above conditions\n",
    "    # evaluate to True\n",
    "    # execute this statement"
   ]
  },
  {
   "cell_type": "code",
   "execution_count": 60,
   "metadata": {},
   "outputs": [
    {
     "name": "stdout",
     "output_type": "stream",
     "text": [
      "It's a bit cold\n"
     ]
    }
   ],
   "source": [
    "temperature = int(input(\"Input the temperature\"))\n",
    "if temperature >= 30:\n",
    "    print(\"It's a hot day\")\n",
    "    print(\"Drink a lot of water\")\n",
    "elif temperature > 20:\n",
    "    print(\"It's a nice day\")\n",
    "    print(\"Go to the beach\")\n",
    "elif temperature > 10:\n",
    "    print(\"It's a bit cold\")\n",
    "else: \n",
    "    print(\"It's cold\")\n",
    "    print(\"Please wear a jack\")"
   ]
  },
  {
   "cell_type": "code",
   "execution_count": 64,
   "metadata": {},
   "outputs": [
    {
     "name": "stdout",
     "output_type": "stream",
     "text": [
      "a and b are equal\n"
     ]
    }
   ],
   "source": [
    "a = float(input(\"Enter first number: \"))\n",
    "b = float(input(\"Enter second number: \"))\n",
    "if b < a: \n",
    "    print(\"a is greater than b\")\n",
    "elif a == b:\n",
    "    b = 5\n",
    "    print(\"a and b are equal\")\n",
    "else:\n",
    "    print(\"b is greater than a\")"
   ]
  },
  {
   "cell_type": "code",
   "execution_count": 65,
   "metadata": {},
   "outputs": [
    {
     "name": "stdout",
     "output_type": "stream",
     "text": [
      "or here?\n",
      "or over here?\n"
     ]
    }
   ],
   "source": [
    "x = 3\n",
    "if (x == 0):\n",
    "    print(\"Am I here?\")\n",
    "elif (x == 3):\n",
    "    print(\"or here?\")\n",
    "print(\"or over here?\")"
   ]
  },
  {
   "cell_type": "markdown",
   "metadata": {},
   "source": [
    "2.3 TERNARY OPERATOR "
   ]
  },
  {
   "cell_type": "code",
   "execution_count": 67,
   "metadata": {},
   "outputs": [
    {
     "name": "stdout",
     "output_type": "stream",
     "text": [
      "Not Eligible\n"
     ]
    }
   ],
   "source": [
    "age = 12\n",
    "if age >= 18:\n",
    "    message = \"Eligible\"\n",
    "else:\n",
    "    message = \"Not Eligible\"\n",
    "print(message)"
   ]
  },
  {
   "cell_type": "code",
   "execution_count": 70,
   "metadata": {},
   "outputs": [
    {
     "name": "stdout",
     "output_type": "stream",
     "text": [
      "Not Eligible\n"
     ]
    }
   ],
   "source": [
    "age = int(input(\"Enter your number: \")) \n",
    "message = \"Eligible\" if age >= 18 else \"Not Eligible\"\n",
    "print(message)"
   ]
  },
  {
   "cell_type": "markdown",
   "metadata": {},
   "source": [
    "2.4 LOOPS\n",
    "Looping means repeating something over and over until a particular condition is satisfied.\n",
    "In this course, we'll concentrate on:\n",
    "    - For Loops \n",
    "    - While loops \n"
   ]
  },
  {
   "cell_type": "markdown",
   "metadata": {},
   "source": [
    "Before we do loops, let's briefly look at Range Function in Python\n",
    "\n",
    "range(5)    ==> 0, 1, 2, 3, 4\n",
    "range(10,15)    ==> 10, 11, 12, 13, 14\n",
    "\n",
    "range(1, 10, 3)\n",
    "1 is the beginning\n",
    "10 is the limit\n",
    "3 is the step\n",
    "therefore range(1, 3, 10) becomes ==> 1, 4, 7"
   ]
  },
  {
   "cell_type": "code",
   "execution_count": 75,
   "metadata": {},
   "outputs": [
    {
     "name": "stdout",
     "output_type": "stream",
     "text": [
      "1\n",
      "4\n",
      "7\n"
     ]
    }
   ],
   "source": [
    "x = range(1, 10, 3)\n",
    "for i in x: \n",
    "    print(i)\n"
   ]
  },
  {
   "cell_type": "markdown",
   "metadata": {},
   "source": [
    "2.4.1 FOR LOOPS\n",
    "A for loop in Python is a control flow statement that is used to repeatedly execute \n",
    "a group of statements as long as the condition is satisfied."
   ]
  },
  {
   "cell_type": "code",
   "execution_count": 81,
   "metadata": {},
   "outputs": [
    {
     "name": "stdout",
     "output_type": "stream",
     "text": [
      "You're person # 1\n",
      "You're person # 2\n",
      "You're person # 3\n"
     ]
    }
   ],
   "source": [
    "for number in range(3):\n",
    "    print(\"You're person #\", (number + 1))"
   ]
  },
  {
   "cell_type": "code",
   "execution_count": 82,
   "metadata": {},
   "outputs": [
    {
     "name": "stdout",
     "output_type": "stream",
     "text": [
      "Attempt .\n",
      "Attempt ..\n",
      "Attempt ...\n"
     ]
    }
   ],
   "source": [
    "for number in range(3):\n",
    "    print(\"Attempt\", (number + 1) * \".\")"
   ]
  },
  {
   "cell_type": "code",
   "execution_count": 87,
   "metadata": {},
   "outputs": [
    {
     "name": "stdout",
     "output_type": "stream",
     "text": [
      "i is:  1\n"
     ]
    }
   ],
   "source": [
    "x = [1, 2, 3, 4]\n",
    "for i in x: \n",
    "    if ( i == 2): \n",
    "        break \n",
    "    print(\"i is: \", i)"
   ]
  },
  {
   "cell_type": "code",
   "execution_count": 90,
   "metadata": {},
   "outputs": [
    {
     "name": "stdout",
     "output_type": "stream",
     "text": [
      "20\n",
      "10\n",
      "5\n"
     ]
    }
   ],
   "source": [
    "b = [20, 10, 5]\n",
    "for e in b: \n",
    "    print(e)"
   ]
  },
  {
   "cell_type": "code",
   "execution_count": 93,
   "metadata": {},
   "outputs": [
    {
     "name": "stdout",
     "output_type": "stream",
     "text": [
      "10 4 66 "
     ]
    }
   ],
   "source": [
    "# let's print even numbers in a list\n",
    "list1 = [10, 21, 4, 45, 66, 93]\n",
    "for num in list1: \n",
    "    if num % 2 == 0: \n",
    "        print(num, end=\" \")"
   ]
  },
  {
   "cell_type": "code",
   "execution_count": 94,
   "metadata": {},
   "outputs": [
    {
     "name": "stdout",
     "output_type": "stream",
     "text": [
      "10\n",
      "4\n",
      "66\n"
     ]
    }
   ],
   "source": [
    "list1 = [10, 21, 4, 45, 66, 93]\n",
    "for num in list1: \n",
    "    if num % 2 == 0: \n",
    "        print(num)"
   ]
  },
  {
   "cell_type": "code",
   "execution_count": 96,
   "metadata": {},
   "outputs": [
    {
     "name": "stdout",
     "output_type": "stream",
     "text": [
      "10 #4 #66 #"
     ]
    }
   ],
   "source": [
    "list1 = [10, 21, 4, 45, 66, 93]\n",
    "for num in list1: \n",
    "    if num % 2 == 0: \n",
    "        print(num, end=\" #\")"
   ]
  },
  {
   "cell_type": "code",
   "execution_count": 100,
   "metadata": {},
   "outputs": [
    {
     "name": "stdout",
     "output_type": "stream",
     "text": [
      "98\n",
      "96\n",
      "94\n",
      "92\n",
      "90\n",
      "88\n",
      "86\n",
      "84\n",
      "82\n",
      "80\n",
      "78\n",
      "76\n",
      "74\n",
      "72\n",
      "70\n",
      "68\n",
      "66\n",
      "64\n",
      "62\n",
      "60\n",
      "58\n",
      "56\n",
      "54\n",
      "52\n",
      "50\n",
      "48\n",
      "46\n",
      "44\n",
      "42\n",
      "40\n",
      "38\n",
      "36\n",
      "34\n",
      "32\n",
      "30\n",
      "28\n",
      "26\n",
      "24\n",
      "22\n",
      "20\n",
      "18\n",
      "16\n",
      "14\n",
      "12\n",
      "10\n",
      "8\n",
      "6\n",
      "4\n",
      "2\n"
     ]
    }
   ],
   "source": [
    "x = range(99, 0, -1)\n",
    "for i in x: \n",
    "    if i % 2 == 0: \n",
    "        print(i)"
   ]
  },
  {
   "cell_type": "code",
   "execution_count": 101,
   "metadata": {},
   "outputs": [
    {
     "name": "stdout",
     "output_type": "stream",
     "text": [
      "99\n",
      "97\n",
      "95\n",
      "93\n",
      "91\n",
      "89\n",
      "87\n",
      "85\n",
      "83\n",
      "81\n",
      "79\n",
      "77\n",
      "75\n",
      "73\n",
      "71\n",
      "69\n",
      "67\n",
      "65\n",
      "63\n",
      "61\n",
      "59\n",
      "57\n",
      "55\n",
      "53\n",
      "51\n",
      "49\n",
      "47\n",
      "45\n",
      "43\n",
      "41\n",
      "39\n",
      "37\n",
      "35\n",
      "33\n",
      "31\n",
      "29\n",
      "27\n",
      "25\n",
      "23\n",
      "21\n",
      "19\n",
      "17\n",
      "15\n",
      "13\n",
      "11\n",
      "9\n",
      "7\n",
      "5\n",
      "3\n",
      "1\n"
     ]
    }
   ],
   "source": [
    "x = range(99, 0, -2)\n",
    "for i in x:\n",
    "    print(i)"
   ]
  },
  {
   "cell_type": "markdown",
   "metadata": {},
   "source": [
    "2.4.2 WHILE LOOPS \n"
   ]
  },
  {
   "cell_type": "code",
   "execution_count": 103,
   "metadata": {},
   "outputs": [
    {
     "name": "stdout",
     "output_type": "stream",
     "text": [
      "Congratulations, you're logged in!\n"
     ]
    }
   ],
   "source": [
    "secret_pin = 4421\n",
    "pin = int(input(\"Please enter your pin: \"))\n",
    "while pin != secret_pin:\n",
    "    pin = int(input(\"Enter your pin: \"))\n",
    "else: \n",
    "    print(\"Congratulations, you're logged in!\")"
   ]
  },
  {
   "cell_type": "code",
   "execution_count": 106,
   "metadata": {},
   "outputs": [
    {
     "name": "stdout",
     "output_type": "stream",
     "text": [
      "20\n",
      "18\n",
      "16\n",
      "14\n",
      "12\n",
      "10\n",
      "8\n",
      "6\n",
      "4\n"
     ]
    }
   ],
   "source": [
    "# Write a python program to take range limits from user input \n",
    "# and print the even numbers in the range\n",
    "\n",
    "start = int(input(\"Enter the start of range\"))\n",
    "end = int(input(\"Enter the end of range: \"))\n",
    "for num in range(start, end + 1):\n",
    "    if num % 2 == 0: \n",
    "        print(num)"
   ]
  },
  {
   "cell_type": "markdown",
   "metadata": {},
   "source": [
    "General Notes about if/else, while loop and for loops:\n",
    "- if/else statements allow us to conditionally run cocde \n",
    "- a while loop makes it possible to repetitively execute code based on a certain condition. \n",
    "- we can execute code for each item in a sequence with a for ... in loop makes\n"
   ]
  },
  {
   "cell_type": "markdown",
   "metadata": {},
   "source": [
    "2. 5 LOGICAL OPERATORS \n",
    "\n",
    "- AND   =   Returns True if both statements are true\n",
    "- OR    =   Returns True if one of the statements is true\n",
    "- NOT   =   Reverses the result, returns False if the result is true"
   ]
  },
  {
   "cell_type": "code",
   "execution_count": 6,
   "metadata": {},
   "outputs": [
    {
     "name": "stdout",
     "output_type": "stream",
     "text": [
      "You're not eligible for Mortgage\n"
     ]
    }
   ],
   "source": [
    "income = float(input(\"Please enter your income: \"))\n",
    "credit = int(input(\"Please enter your credit score: \"))\n",
    "\n",
    "if income >= 100000 and credit >= 700: \n",
    "    print(\"You're eligible for Mortgage.\")\n",
    "else: \n",
    "    print(\"You're not eligible for Mortgage\")"
   ]
  },
  {
   "cell_type": "code",
   "execution_count": 7,
   "metadata": {},
   "outputs": [
    {
     "name": "stdout",
     "output_type": "stream",
     "text": [
      "You're eligible for Mortgage.\n"
     ]
    }
   ],
   "source": [
    "income = float(input(\"Please enter your income: \"))\n",
    "credit = int(input(\"Please enter your credit score: \"))\n",
    "\n",
    "if income >= 100000 or credit >= 700: \n",
    "    print(\"You're eligible for Mortgage.\")\n",
    "else: \n",
    "    print(\"You're not eligible for Mortgage\")"
   ]
  },
  {
   "cell_type": "code",
   "execution_count": 8,
   "metadata": {},
   "outputs": [
    {
     "name": "stdout",
     "output_type": "stream",
     "text": [
      "You are both children or minors\n"
     ]
    }
   ],
   "source": [
    "age1 = int(input(\"Oluwafemi, enter your age: \"))\n",
    "age2 = int(input(\"Dela, enter your age: \"))\n",
    "\n",
    "if age1 > 18 and age2 >= 18: \n",
    "    print(\"You are both adults\")\n",
    "else: \n",
    "    print(\"You are both children or minors\")"
   ]
  },
  {
   "cell_type": "code",
   "execution_count": 16,
   "metadata": {},
   "outputs": [
    {
     "name": "stdout",
     "output_type": "stream",
     "text": [
      "You're not eligible for Mortgage\n"
     ]
    }
   ],
   "source": [
    "income = float(input(\"Please enter your income: \"))\n",
    "credit = int(input(\"Please enter your credit score: \"))\n",
    "student = True\n",
    "#student = bool(input(\"Are you a student? Enter True or False: \"))\n",
    "\n",
    "if (income >= 100000 or credit >= 700) and not student: \n",
    "    print(\"You're eligible for Mortgage.\")\n",
    "else: \n",
    "    print(\"You're not eligible for Mortgage\")"
   ]
  },
  {
   "cell_type": "code",
   "execution_count": 20,
   "metadata": {},
   "outputs": [
    {
     "name": "stdout",
     "output_type": "stream",
     "text": [
      "You are not hungry.\n"
     ]
    }
   ],
   "source": [
    "hungry = False \n",
    "if (not hungry):\n",
    "    print(\"You are not hungry.\")\n",
    "else: \n",
    "    print(\"You are hungry.\")"
   ]
  },
  {
   "cell_type": "markdown",
   "metadata": {},
   "source": [
    "                END OF TODAY'S CLASS \n",
    "                HAPPY LEARNING"
   ]
  },
  {
   "cell_type": "code",
   "execution_count": 4,
   "metadata": {},
   "outputs": [
    {
     "name": "stdout",
     "output_type": "stream",
     "text": [
      " ddd\n"
     ]
    }
   ],
   "source": [
    "# Class one take home assignment \n",
    "\n",
    "from getpass import getpass\n",
    "\n",
    "user = input(\"Enter your username: \")\n",
    "password = getpass(\"Password: \")\n",
    "print(user, password)\n"
   ]
  },
  {
   "cell_type": "markdown",
   "metadata": {},
   "source": [
    "LECTURE THREE:\t2 - 3 hours Tuesday November 22nd, 2022 at 7pm - 10pm MST\n",
    "\n",
    "3. 1 LISTS\n",
    "3.2 FUNCTIONS "
   ]
  },
  {
   "cell_type": "markdown",
   "metadata": {},
   "source": [
    "3.1 Lists \n",
    "eg.\n",
    "x = [7, \"Efe\", \"Judith\", 8.6, False, \"Susan\", True]"
   ]
  },
  {
   "cell_type": "code",
   "execution_count": 21,
   "metadata": {},
   "outputs": [
    {
     "name": "stdout",
     "output_type": "stream",
     "text": [
      "['Barbados', 'Belize', 'Canada', 'Haiti', 'United States']\n"
     ]
    }
   ],
   "source": [
    "north_america = [\"Barbados\", \"Belize\", \"Canada\", \"Haiti\", \"United States\"]\n",
    "print(north_america)"
   ]
  },
  {
   "cell_type": "markdown",
   "metadata": {},
   "source": [
    "\"Barbados\", \"Belize\", \"Canada\", \"Haiti\", \"United States\"\n",
    "    0           1       2           3           4\n",
    "   -5          -4      -3          -2          -1\n"
   ]
  },
  {
   "cell_type": "code",
   "execution_count": 25,
   "metadata": {},
   "outputs": [
    {
     "name": "stdout",
     "output_type": "stream",
     "text": [
      "Barbados\n",
      "Haiti\n",
      "Belize\n"
     ]
    },
    {
     "ename": "IndexError",
     "evalue": "list index out of range",
     "output_type": "error",
     "traceback": [
      "\u001b[1;31m---------------------------------------------------------------------------\u001b[0m",
      "\u001b[1;31mIndexError\u001b[0m                                Traceback (most recent call last)",
      "\u001b[1;32mc:\\Users\\jngha\\OneDrive\\Desktop\\PythonTeach\\AcadaPython_Class_2022.ipynb Cell 105\u001b[0m in \u001b[0;36m<cell line: 5>\u001b[1;34m()\u001b[0m\n\u001b[0;32m      <a href='vscode-notebook-cell:/c%3A/Users/jngha/OneDrive/Desktop/PythonTeach/AcadaPython_Class_2022.ipynb#Y212sZmlsZQ%3D%3D?line=2'>3</a>\u001b[0m \u001b[39mprint\u001b[39m(north_america[\u001b[39m-\u001b[39m\u001b[39m2\u001b[39m])\n\u001b[0;32m      <a href='vscode-notebook-cell:/c%3A/Users/jngha/OneDrive/Desktop/PythonTeach/AcadaPython_Class_2022.ipynb#Y212sZmlsZQ%3D%3D?line=3'>4</a>\u001b[0m \u001b[39mprint\u001b[39m(north_america[\u001b[39m1\u001b[39m])\n\u001b[1;32m----> <a href='vscode-notebook-cell:/c%3A/Users/jngha/OneDrive/Desktop/PythonTeach/AcadaPython_Class_2022.ipynb#Y212sZmlsZQ%3D%3D?line=4'>5</a>\u001b[0m \u001b[39mprint\u001b[39m(north_america[\u001b[39m18\u001b[39;49m])\n",
      "\u001b[1;31mIndexError\u001b[0m: list index out of range"
     ]
    }
   ],
   "source": [
    "north_america = [\"Barbados\", \"Belize\", \"Canada\", \"Haiti\", \"United States\"]\n",
    "print(north_america[0])\n",
    "print(north_america[-2])\n",
    "print(north_america[1])\n",
    "print(north_america[18])"
   ]
  },
  {
   "cell_type": "code",
   "execution_count": 27,
   "metadata": {},
   "outputs": [
    {
     "name": "stdout",
     "output_type": "stream",
     "text": [
      "Francisca is in the United States\n",
      "5\n"
     ]
    }
   ],
   "source": [
    "north_america = [\"Barbados\", \"Belize\", \"Canada\", \"Haiti\", \"United States\"]\n",
    "print(\"Francisca is in the \" + north_america[-1])\n",
    "print(len(north_america))"
   ]
  },
  {
   "cell_type": "code",
   "execution_count": 29,
   "metadata": {},
   "outputs": [
    {
     "name": "stdout",
     "output_type": "stream",
     "text": [
      "0\n",
      "1\n",
      "2\n",
      "3\n",
      "4\n",
      "5\n",
      "6\n",
      "7\n",
      "8\n",
      "9\n",
      "10\n",
      "11\n",
      "12\n",
      "13\n",
      "14\n",
      "15\n",
      "16\n",
      "17\n",
      "18\n",
      "19\n"
     ]
    }
   ],
   "source": [
    "numbers = list(range(20))\n",
    "for item in numbers:\n",
    "    print(item)"
   ]
  },
  {
   "cell_type": "code",
   "execution_count": 3,
   "metadata": {},
   "outputs": [
    {
     "name": "stdout",
     "output_type": "stream",
     "text": [
      "['H', 'e', 'l', 'l', 'o', ' ', 'W', 'o', 'r', 'l', 'd']\n"
     ]
    }
   ],
   "source": [
    "chars = list(\"Hello World\")\n",
    "print(chars)"
   ]
  },
  {
   "cell_type": "code",
   "execution_count": 2,
   "metadata": {},
   "outputs": [
    {
     "name": "stdout",
     "output_type": "stream",
     "text": [
      "[10, 13]\n",
      "[10, 13]\n",
      "[10, 13]\n",
      "[10, 13]\n",
      "[10, 13]\n"
     ]
    }
   ],
   "source": [
    "list1 = [10, 11, 12, 13, 14]\n",
    "for item in list1:\n",
    "    print(list1[::3])"
   ]
  },
  {
   "cell_type": "markdown",
   "metadata": {},
   "source": [
    "(x, y, z)\n",
    "x is the beginning\n",
    "y is the end\n",
    "z is the step"
   ]
  },
  {
   "cell_type": "code",
   "execution_count": 1,
   "metadata": {},
   "outputs": [
    {
     "name": "stdout",
     "output_type": "stream",
     "text": [
      "[1, 2, 3, 4]\n"
     ]
    }
   ],
   "source": [
    "list1 = [4, 3, 2, 1]\n",
    "print(list1[::-1])"
   ]
  },
  {
   "cell_type": "markdown",
   "metadata": {},
   "source": [
    "- Modifying Items in Lists aka List Methods \n",
    "append()    Adds an element at the end of the list\n",
    "insert()    Adds an element at a specified position\n",
    "clear()     Removes all the elements from the list\n",
    "copy()      Returns a copy of the list\n",
    "count()     Returns the nunmber of elements with the specified value\n",
    "extend()    Add the elements of a list (or any iterable), to the end of the current list\n",
    "index()     Returns the index of the first element of the specified value\n",
    "pop()       Removes element at the end of the list\n",
    "remove()    Removes the item with the specified value if you don't want to use index\n",
    "reverse()   Reverses the order of the list\n",
    "sort()      Sorts the list\n",
    "del()       Removes an item with a specified value"
   ]
  },
  {
   "cell_type": "code",
   "execution_count": 6,
   "metadata": {},
   "outputs": [
    {
     "name": "stdout",
     "output_type": "stream",
     "text": [
      "[7, 'Efe', 'Judith', 8.6, False, 'Susan', True, 'Edna']\n"
     ]
    }
   ],
   "source": []
  },
  {
   "cell_type": "code",
   "execution_count": 9,
   "metadata": {},
   "outputs": [
    {
     "name": "stdout",
     "output_type": "stream",
     "text": [
      "[7, 'Efe', 'Judith', 8.6, False, 'Susan', 'Edna', True]\n"
     ]
    }
   ],
   "source": [
    "x = [7, \"Efe\", \"Judith\", 8.6, False, \"Susan\", True]\n",
    "x.insert(-1, \"Edna\")\n",
    "print(x)"
   ]
  },
  {
   "cell_type": "code",
   "execution_count": 10,
   "metadata": {},
   "outputs": [
    {
     "name": "stdout",
     "output_type": "stream",
     "text": [
      "[7, 'Efe', 8.6, False, 'Susan', True]\n"
     ]
    }
   ],
   "source": [
    "x = [7, \"Efe\", \"Judith\", 8.6, False, \"Susan\", True]\n",
    "x.remove(\"Judith\")\n",
    "print(x)"
   ]
  },
  {
   "cell_type": "code",
   "execution_count": 11,
   "metadata": {},
   "outputs": [
    {
     "name": "stdout",
     "output_type": "stream",
     "text": [
      "[24, 46, 56, 72]\n"
     ]
    }
   ],
   "source": [
    "ages = [56, 72, 24, 46]\n",
    "ages.sort()\n",
    "print(ages)"
   ]
  },
  {
   "cell_type": "code",
   "execution_count": 12,
   "metadata": {},
   "outputs": [
    {
     "name": "stdout",
     "output_type": "stream",
     "text": [
      "[46, 24, 72, 56]\n"
     ]
    }
   ],
   "source": [
    "ages = [56, 72, 24, 46]\n",
    "ages.reverse()\n",
    "print(ages)"
   ]
  },
  {
   "cell_type": "code",
   "execution_count": 15,
   "metadata": {},
   "outputs": [
    {
     "name": "stdout",
     "output_type": "stream",
     "text": [
      "['Barbados', 'Grenada', 'Honduras', 'Haiti', 'United States']\n"
     ]
    }
   ],
   "source": [
    "north_america = [\"Barbados\", \"Belize\", \"Canada\", \"Haiti\", \"United States\"]\n",
    "north_america[1] = 'Grenada'\n",
    "north_america[-3] = 'Honduras'\n",
    "print(north_america)"
   ]
  },
  {
   "cell_type": "code",
   "execution_count": 16,
   "metadata": {},
   "outputs": [
    {
     "name": "stdout",
     "output_type": "stream",
     "text": [
      "['Barbados', 'Grenada', 'Honduras', 'Canada', 'Haiti', 'United States']\n"
     ]
    }
   ],
   "source": [
    "north_america = [\"Barbados\", \"Belize\", \"Canada\", \"Haiti\", \"United States\"]\n",
    "north_america[1:-3] = ['Grenada', 'Honduras']\n",
    "print(north_america)"
   ]
  },
  {
   "cell_type": "code",
   "execution_count": 17,
   "metadata": {},
   "outputs": [
    {
     "name": "stdout",
     "output_type": "stream",
     "text": [
      "['shark', 'octopus', 'turtle', 'shrimp', 'crab']\n"
     ]
    }
   ],
   "source": [
    "sea_creatures = ['shark', 'octopus', 'turtle', 'dolphin', 'shrimp', 'crab']\n",
    "del sea_creatures[-3]\n",
    "print(sea_creatures)"
   ]
  },
  {
   "cell_type": "code",
   "execution_count": 19,
   "metadata": {},
   "outputs": [
    {
     "name": "stdout",
     "output_type": "stream",
     "text": [
      "['shark', 'crab']\n"
     ]
    }
   ],
   "source": [
    "sea_creatures = ['shark', 'octopus', 'turtle', 'dolphin', 'shrimp', 'crab']\n",
    "del sea_creatures[1:5]\n",
    "print(sea_creatures)"
   ]
  },
  {
   "cell_type": "code",
   "execution_count": 20,
   "metadata": {},
   "outputs": [
    {
     "name": "stdout",
     "output_type": "stream",
     "text": [
      "['Belize', 'Barbados', 'Canada', 'Haiti', 'United States']\n"
     ]
    }
   ],
   "source": [
    "north_america = [\"Barbados\", \"Belize\", \"Canada\", \"Haiti\", \"United States\"]\n",
    "north_america[0], north_america[1] = north_america[1], north_america[0]\n",
    "print(north_america)"
   ]
  },
  {
   "cell_type": "markdown",
   "metadata": {},
   "source": [
    "x, y = 2, 4\n",
    "x = 2\n",
    "y = 4"
   ]
  },
  {
   "cell_type": "code",
   "execution_count": 21,
   "metadata": {},
   "outputs": [
    {
     "name": "stdout",
     "output_type": "stream",
     "text": [
      "['Canada', 'Haiti', 'Canada', 'Haiti', 'United States']\n"
     ]
    }
   ],
   "source": [
    "north_america = [\"Barbados\", \"Belize\", \"Canada\", \"Haiti\", \"United States\"]\n",
    "north_america[0], north_america[1] = north_america[2], north_america[3]\n",
    "print(north_america)"
   ]
  },
  {
   "cell_type": "code",
   "execution_count": 23,
   "metadata": {},
   "outputs": [
    {
     "name": "stdout",
     "output_type": "stream",
     "text": [
      "['Canada', 'Costa Rica', 'Canada', 'Haiti', 'Cayman Islands']\n"
     ]
    }
   ],
   "source": [
    "north_america = [\"Barbados\", \"Belize\", \"Canada\", \"Haiti\", \"United States\"]\n",
    "north_america[0], north_america[1], north_america[-1] = north_america[2], 'Costa Rica', 'Cayman Islands'\n",
    "print(north_america)"
   ]
  },
  {
   "cell_type": "code",
   "execution_count": 24,
   "metadata": {},
   "outputs": [
    {
     "name": "stdout",
     "output_type": "stream",
     "text": [
      "Python\n"
     ]
    }
   ],
   "source": [
    "list1 = [\"Go\", \"Java\", \"C\", \"Python\"]   # some programming languages \n",
    "print(max(list1))"
   ]
  },
  {
   "cell_type": "code",
   "execution_count": 32,
   "metadata": {},
   "outputs": [
    {
     "name": "stdout",
     "output_type": "stream",
     "text": [
      "Apple\n"
     ]
    }
   ],
   "source": [
    "list1 = [\"Go\", \"Java\", \"CAT\", \"Apple\", \"Python\"]   # some programming languages \n",
    "print(min(list1))"
   ]
  },
  {
   "cell_type": "code",
   "execution_count": 27,
   "metadata": {},
   "outputs": [
    {
     "data": {
      "text/plain": [
       "2"
      ]
     },
     "execution_count": 27,
     "metadata": {},
     "output_type": "execute_result"
    }
   ],
   "source": [
    "list1 = [4, 3, 2, 1]\n",
    "list1.pop(2)\n",
    "# print(list1)"
   ]
  },
  {
   "cell_type": "code",
   "execution_count": 36,
   "metadata": {},
   "outputs": [
    {
     "name": "stdout",
     "output_type": "stream",
     "text": [
      "['UK', 'India', 8, 'Canada']\n"
     ]
    }
   ],
   "source": [
    "list = ['UK', 'India', 'Canada']\n",
    "list.insert(2, 8)\n",
    "print(list)"
   ]
  },
  {
   "cell_type": "markdown",
   "metadata": {},
   "source": [
    "- Iterating Lists\n"
   ]
  },
  {
   "cell_type": "code",
   "execution_count": 40,
   "metadata": {},
   "outputs": [
    {
     "name": "stdout",
     "output_type": "stream",
     "text": [
      "a\n",
      "b\n",
      "c\n"
     ]
    }
   ],
   "source": [
    "letters = ['a', 'b', 'c']\n",
    "for letter in letters: \n",
    "    print(letter)"
   ]
  },
  {
   "cell_type": "code",
   "execution_count": 41,
   "metadata": {},
   "outputs": [
    {
     "name": "stdout",
     "output_type": "stream",
     "text": [
      "49.5\n"
     ]
    }
   ],
   "source": [
    "ages = [56, 72, 24, 46]\n",
    "total = 0\n",
    "for age in ages:\n",
    "    total += age \n",
    "average = total / len(ages)\n",
    "print(average)    "
   ]
  },
  {
   "cell_type": "code",
   "execution_count": 60,
   "metadata": {},
   "outputs": [
    {
     "name": "stdout",
     "output_type": "stream",
     "text": [
      "50.75\n"
     ]
    }
   ],
   "source": [
    "ages = [56, 72, 24, 46]\n",
    "total = 0\n",
    "for apple in ages:\n",
    "    total = total + apple \n",
    "average = total / len(ages)\n",
    "print(average)"
   ]
  },
  {
   "cell_type": "code",
   "execution_count": 48,
   "metadata": {},
   "outputs": [
    {
     "name": "stdout",
     "output_type": "stream",
     "text": [
      "Letter : A\n",
      "Letter : c\n",
      "Letter : a\n",
      "Letter : a\n",
      "Letter : L\n",
      "Letter : e\n",
      "Letter : a\n",
      "Letter : r\n",
      "Letter : n\n",
      "Letter : i\n",
      "Letter : n\n",
      "Letter : g\n"
     ]
    }
   ],
   "source": [
    "for letter in \"AcadaLearning\":\n",
    "    if letter == 'd':\n",
    "        continue \n",
    "    print('Letter : ' + letter)"
   ]
  },
  {
   "cell_type": "code",
   "execution_count": 44,
   "metadata": {},
   "outputs": [
    {
     "name": "stdout",
     "output_type": "stream",
     "text": [
      "Letter : A\n",
      "Letter : c\n",
      "Letter : a\n",
      "Letter : d\n",
      "Letter : a\n"
     ]
    }
   ],
   "source": [
    "for letter in \"AcadaLearning\":\n",
    "    if letter == 'L':\n",
    "        break \n",
    "    print('Letter : ' + letter)"
   ]
  },
  {
   "cell_type": "markdown",
   "metadata": {},
   "source": [
    "List Slicing"
   ]
  },
  {
   "cell_type": "code",
   "execution_count": 52,
   "metadata": {},
   "outputs": [
    {
     "name": "stdout",
     "output_type": "stream",
     "text": [
      "['Belize', 'Canada', 'Haiti']\n",
      "['Barbados', 'Belize', 'Canada']\n",
      "['Canada', 'Haiti', 'United States']\n",
      "['Belize', 'Canada']\n"
     ]
    }
   ],
   "source": [
    "north_america = [\"Barbados\", \"Belize\", \"Canada\", \"Haiti\", \"United States\"]\n",
    "print(north_america[1:4])\n",
    "print(north_america[:3])\n",
    "print(north_america[2:])\n",
    "print(north_america[-4:-2])"
   ]
  },
  {
   "cell_type": "code",
   "execution_count": 56,
   "metadata": {},
   "outputs": [
    {
     "name": "stdout",
     "output_type": "stream",
     "text": [
      "['shark', 'octopus', 'turtle', 'dolphin', 'shrimp', 'crab', 'Pacific', 'Atlantic', 'Indian', 'Sourthern', 'Artic']\n",
      "['shark', 'octopus', 'turtle', 'dolphin', 'shrimp', 'crab', 'shark', 'octopus', 'turtle', 'dolphin', 'shrimp', 'crab']\n",
      "['Pacific', 'Atlantic', 'Indian', 'Sourthern', 'Artic', 'Pacific', 'Atlantic', 'Indian', 'Sourthern', 'Artic', 'Pacific', 'Atlantic', 'Indian', 'Sourthern', 'Artic']\n"
     ]
    }
   ],
   "source": [
    "sea_creatures = ['shark', 'octopus', 'turtle', 'dolphin', 'shrimp', 'crab']\n",
    "oceans = ['Pacific', 'Atlantic', 'Indian', 'Sourthern', 'Artic']\n",
    "print(sea_creatures + oceans)\n",
    "print(sea_creatures * 2)\n",
    "print(oceans * 3)"
   ]
  },
  {
   "cell_type": "code",
   "execution_count": 57,
   "metadata": {},
   "outputs": [
    {
     "name": "stdout",
     "output_type": "stream",
     "text": [
      "['Africa', 'Africa', 'Africa', 'Africa', 'Africa', 'Africa', 'Africa', 'Africa', 'Africa', 'Africa', 'Africa', 'Africa', 'Africa', 'Africa', 'Africa', 'Africa', 'Africa', 'Africa', 'Africa', 'Africa', 'Africa', 'Africa', 'Africa', 'Africa', 'Africa', 'Africa', 'Africa', 'Africa', 'Africa', 'Africa']\n"
     ]
    }
   ],
   "source": [
    "x = ['Africa']\n",
    "print(x * 30)"
   ]
  },
  {
   "cell_type": "code",
   "execution_count": 59,
   "metadata": {},
   "outputs": [
    {
     "name": "stdout",
     "output_type": "stream",
     "text": [
      "Pacific\n",
      "shark\n"
     ]
    }
   ],
   "source": [
    "our_list = [['shark', 'octopus', 'turtle', 'dolphin', 'shrimp', 'crab'], ['Pacific', 'Atlantic', 'Indian', 'Sourthern', 'Artic']]\n",
    "print(our_list[1][0])\n",
    "print(our_list[0][0])\n"
   ]
  },
  {
   "cell_type": "markdown",
   "metadata": {},
   "source": [
    "LECTURE FOUR:\t2 - 3 hours Saturday November 26th, 2022 at 12pm - 3pm MST\n",
    "\n",
    "4.1 Functions\n",
    "4.2 Tuples \n",
    "4.3 Dictionary\n",
    "4.4 Modules or Python Packages  "
   ]
  },
  {
   "cell_type": "markdown",
   "metadata": {},
   "source": [
    "4.1 FUNCTIONS \n",
    "In Python, a function is a group of related statements that performs a specific task. \n",
    "Functions help break our program into smaller and modular chunks. As our program \n",
    "grows larger and larger, functions make it more organized and manageable.\n",
    "In Python, a function is a group of related statements that performs a specific task. \n",
    "Functions help break our program into smaller and modular chunks. As our program \n",
    "grows larger and larger, functions make it more organized and manageable.\n",
    "\n",
    "eg. of functions include print, input, type, len, etc these are inbuilt python\n",
    "functions. To create our own functions, we follow the examples below. "
   ]
  },
  {
   "cell_type": "code",
   "execution_count": 1,
   "metadata": {},
   "outputs": [
    {
     "name": "stdout",
     "output_type": "stream",
     "text": [
      "Hi there\n",
      "Welcome to Acada Learning\n"
     ]
    }
   ],
   "source": [
    "def greet():\n",
    "    print(\"Hi there\")\n",
    "    print(\"Welcome to Acada Learning\")\n",
    "\n",
    "greet()"
   ]
  },
  {
   "cell_type": "code",
   "execution_count": 3,
   "metadata": {},
   "outputs": [
    {
     "name": "stdout",
     "output_type": "stream",
     "text": [
      "Hello, Francisca. Welcome to Acada Learning\n"
     ]
    }
   ],
   "source": [
    "def greet(name): \n",
    "    print(\"Hello, \" + name + \". Welcome to Acada Learning\")\n",
    "    \n",
    "greet(\"Francisca\")"
   ]
  },
  {
   "cell_type": "code",
   "execution_count": 5,
   "metadata": {},
   "outputs": [
    {
     "name": "stdout",
     "output_type": "stream",
     "text": [
      "Hi Susan Jamesbrown\n",
      "Welcome to Acada Learning\n"
     ]
    }
   ],
   "source": [
    "def greet(first_name, last_name):\n",
    "    print(f\"Hi {first_name} {last_name}\")\n",
    "    print(\"Welcome to Acada Learning\")\n",
    "    \n",
    "greet(\"Susan\", \"Jamesbrown\")"
   ]
  },
  {
   "cell_type": "code",
   "execution_count": 7,
   "metadata": {},
   "outputs": [
    {
     "name": "stdout",
     "output_type": "stream",
     "text": [
      "5\n"
     ]
    }
   ],
   "source": [
    "def increment(number, by): \n",
    "    return number + by \n",
    "\n",
    "print(increment(number=2, by=3))"
   ]
  },
  {
   "cell_type": "code",
   "execution_count": 8,
   "metadata": {},
   "outputs": [
    {
     "name": "stdout",
     "output_type": "stream",
     "text": [
      "2\n",
      "3\n",
      "4\n",
      "5\n"
     ]
    }
   ],
   "source": [
    "def multiply(*numbers):\n",
    "    for number in numbers:\n",
    "        print(number)\n",
    "        \n",
    "multiply(2, 3, 4, 5)"
   ]
  },
  {
   "cell_type": "code",
   "execution_count": 9,
   "metadata": {},
   "outputs": [
    {
     "data": {
      "text/plain": [
       "120"
      ]
     },
     "execution_count": 9,
     "metadata": {},
     "output_type": "execute_result"
    }
   ],
   "source": [
    "def multiply(*numbers):\n",
    "    total = 1\n",
    "    for number in numbers:\n",
    "        total *= number \n",
    "    return total\n",
    "        \n",
    "multiply(2, 3, 4, 5)"
   ]
  },
  {
   "cell_type": "markdown",
   "metadata": {},
   "source": [
    "5! \n",
    "5x4x3x2x1"
   ]
  },
  {
   "cell_type": "code",
   "execution_count": 12,
   "metadata": {},
   "outputs": [
    {
     "name": "stdout",
     "output_type": "stream",
     "text": [
      "The tallest student is Francisca\n"
     ]
    }
   ],
   "source": [
    "def my_function(*students):\n",
    "    print(\"The tallest student is \" + students[-2])\n",
    "\n",
    "my_function(\"Susan\", \"Francisca\", \"Eseoghene\")"
   ]
  },
  {
   "cell_type": "code",
   "execution_count": 16,
   "metadata": {},
   "outputs": [
    {
     "name": "stdout",
     "output_type": "stream",
     "text": [
      "Victor 20\n"
     ]
    }
   ],
   "source": [
    "def print_info(name, age):\n",
    "    print(name, age)\n",
    "    \n",
    "print_info(\"Victor\", 20)"
   ]
  },
  {
   "cell_type": "code",
   "execution_count": 19,
   "metadata": {},
   "outputs": [
    {
     "name": "stdout",
     "output_type": "stream",
     "text": [
      "1\n",
      "4\n"
     ]
    }
   ],
   "source": [
    "a = 0\n",
    "\n",
    "def add_one(a):\n",
    "    return a + 1 \n",
    "\n",
    "result = add_one(a)\n",
    "print(result)\n",
    "\n",
    "b = 4\n",
    "\n",
    "print(a + b)"
   ]
  },
  {
   "cell_type": "markdown",
   "metadata": {},
   "source": [
    "4.2 Tuples \n",
    "Tuple is a read only list. \n",
    "\n",
    "NB: tuples are immutable so we can't append, insert, del, etc. \n",
    "You can create a tuple using int, float, etc. \n",
    "\n",
    "\n",
    "eg. \n",
    "\n",
    "x = 1, \n",
    "\n"
   ]
  },
  {
   "cell_type": "code",
   "execution_count": 23,
   "metadata": {},
   "outputs": [
    {
     "name": "stdout",
     "output_type": "stream",
     "text": [
      "<class 'tuple'>\n",
      "(1, 2, 3)\n"
     ]
    }
   ],
   "source": [
    "tuple1 = (1, 2, 3)\n",
    "print(type(tuple1))\n",
    "print(tuple1)"
   ]
  },
  {
   "cell_type": "code",
   "execution_count": 26,
   "metadata": {},
   "outputs": [
    {
     "name": "stdout",
     "output_type": "stream",
     "text": [
      "<class 'tuple'>\n",
      "(1, 2, 3)\n"
     ]
    }
   ],
   "source": [
    "tuple1 = 1, 2, 3\n",
    "print(type(tuple1))\n",
    "print(tuple1)"
   ]
  },
  {
   "cell_type": "code",
   "execution_count": 27,
   "metadata": {},
   "outputs": [
    {
     "name": "stdout",
     "output_type": "stream",
     "text": [
      "1\n",
      "2\n",
      "3\n"
     ]
    }
   ],
   "source": [
    "tuple1 = (1, 2, 3)\n",
    "for item in tuple1:\n",
    "    print(item)"
   ]
  },
  {
   "cell_type": "code",
   "execution_count": 28,
   "metadata": {},
   "outputs": [
    {
     "name": "stdout",
     "output_type": "stream",
     "text": [
      "(1, 2, 3, 4)\n"
     ]
    }
   ],
   "source": [
    "point = (1, 2) + (3, 4)\n",
    "print(point)"
   ]
  },
  {
   "cell_type": "code",
   "execution_count": 29,
   "metadata": {},
   "outputs": [
    {
     "name": "stdout",
     "output_type": "stream",
     "text": [
      "('orange', 'Susan', 'Argentina', 'Mexico')\n"
     ]
    }
   ],
   "source": [
    "point = (\"orange\", \"Susan\") + (\"Argentina\", \"Mexico\")\n",
    "print(point)"
   ]
  },
  {
   "cell_type": "code",
   "execution_count": 30,
   "metadata": {},
   "outputs": [
    {
     "name": "stdout",
     "output_type": "stream",
     "text": [
      "(1, 2, 1, 2, 1, 2)\n"
     ]
    }
   ],
   "source": [
    "point = (1, 2) * 3\n",
    "print(point)"
   ]
  },
  {
   "cell_type": "code",
   "execution_count": 32,
   "metadata": {},
   "outputs": [
    {
     "name": "stdout",
     "output_type": "stream",
     "text": [
      "('Apple', 'Acada', 1, 2)\n"
     ]
    }
   ],
   "source": [
    "point = tuple([\"Apple\", \"Acada\", 1, 2])\n",
    "print(point)"
   ]
  },
  {
   "cell_type": "code",
   "execution_count": 34,
   "metadata": {},
   "outputs": [
    {
     "name": "stdout",
     "output_type": "stream",
     "text": [
      "2\n",
      "('Acada', 'DevOps')\n"
     ]
    }
   ],
   "source": [
    "point = (\"Acada\", \"DevOps\", \"Learning\", 1, 2, 3)\n",
    "print(point[-2])\n",
    "print(point[0:2])"
   ]
  },
  {
   "cell_type": "markdown",
   "metadata": {},
   "source": [
    "range(2)\n",
    "0\n",
    "1"
   ]
  },
  {
   "cell_type": "markdown",
   "metadata": {},
   "source": [
    "4.3 Dictionaries in Python\n",
    "\n",
    "We use dictionaries to match a key to a value. "
   ]
  },
  {
   "cell_type": "code",
   "execution_count": 35,
   "metadata": {},
   "outputs": [
    {
     "name": "stdout",
     "output_type": "stream",
     "text": [
      "Peter Obi\n"
     ]
    }
   ],
   "source": [
    "candidates = {\n",
    "    \"YPP\": \"Prince Malik\",\n",
    "    \"AAC\": \"Omoyele Sowore\",\n",
    "    \"LP\": \"Peter Obi\",\n",
    "    \"APC\": \"Bola Tinubu\",\n",
    "    \"PDP\": \"Atiku Abubakar\"\n",
    "}\n",
    "\n",
    "print(candidates[\"LP\"])"
   ]
  },
  {
   "cell_type": "code",
   "execution_count": 36,
   "metadata": {},
   "outputs": [
    {
     "name": "stdout",
     "output_type": "stream",
     "text": [
      "dict_keys(['YPP', 'AAC', 'LP', 'APC', 'PDP'])\n"
     ]
    }
   ],
   "source": [
    "candidates = {\n",
    "    \"YPP\": \"Prince Malik\",\n",
    "    \"AAC\": \"Omoyele Sowore\",\n",
    "    \"LP\": \"Peter Obi\",\n",
    "    \"APC\": \"Bola Tinubu\",\n",
    "    \"PDP\": \"Atiku Abubakar\"\n",
    "}\n",
    "\n",
    "print(candidates.keys())"
   ]
  },
  {
   "cell_type": "code",
   "execution_count": 39,
   "metadata": {},
   "outputs": [
    {
     "name": "stdout",
     "output_type": "stream",
     "text": [
      "YPP - Prince Malik\n",
      "AAC - Omoyele Sowore\n",
      "LP - Peter Obi\n",
      "APC - Bola Tinubu\n",
      "PDP - Atiku Abubakar\n"
     ]
    }
   ],
   "source": [
    "candidates = {\n",
    "    \"YPP\": \"Prince Malik\",\n",
    "    \"AAC\": \"Omoyele Sowore\",\n",
    "    \"LP\": \"Peter Obi\",\n",
    "    \"APC\": \"Bola Tinubu\",\n",
    "    \"PDP\": \"Atiku Abubakar\"\n",
    "}\n",
    "\n",
    "for key in candidates.keys():\n",
    "    print(key + \" - \" + candidates[key])"
   ]
  },
  {
   "cell_type": "code",
   "execution_count": 40,
   "metadata": {},
   "outputs": [
    {
     "name": "stdout",
     "output_type": "stream",
     "text": [
      "dict_values(['Prince Malik', 'Omoyele Sowore', 'Peter Obi', 'Bola Tinubu', 'Atiku Abubakar'])\n"
     ]
    }
   ],
   "source": [
    "candidates = {\n",
    "    \"YPP\": \"Prince Malik\",\n",
    "    \"AAC\": \"Omoyele Sowore\",\n",
    "    \"LP\": \"Peter Obi\",\n",
    "    \"APC\": \"Bola Tinubu\",\n",
    "    \"PDP\": \"Atiku Abubakar\"\n",
    "}\n",
    "\n",
    "print(candidates.values())"
   ]
  },
  {
   "cell_type": "code",
   "execution_count": 41,
   "metadata": {},
   "outputs": [
    {
     "name": "stdout",
     "output_type": "stream",
     "text": [
      "dict_items([('YPP', 'Prince Malik'), ('AAC', 'Omoyele Sowore'), ('LP', 'Peter Obi'), ('APC', 'Bola Tinubu'), ('PDP', 'Atiku Abubakar')])\n"
     ]
    }
   ],
   "source": [
    "candidates = {\n",
    "    \"YPP\": \"Prince Malik\",\n",
    "    \"AAC\": \"Omoyele Sowore\",\n",
    "    \"LP\": \"Peter Obi\",\n",
    "    \"APC\": \"Bola Tinubu\",\n",
    "    \"PDP\": \"Atiku Abubakar\"\n",
    "}\n",
    "\n",
    "print(candidates.items())"
   ]
  },
  {
   "cell_type": "code",
   "execution_count": 42,
   "metadata": {},
   "outputs": [
    {
     "name": "stdout",
     "output_type": "stream",
     "text": [
      "{'YPP': 'Prince Malik', 'AAC': 'Omoyele Sowore', 'LP': 'Peter Obi', 'PDP': 'Atiku Abubakar'}\n"
     ]
    }
   ],
   "source": [
    "candidates = {\n",
    "    \"YPP\": \"Prince Malik\",\n",
    "    \"AAC\": \"Omoyele Sowore\",\n",
    "    \"LP\": \"Peter Obi\",\n",
    "    \"APC\": \"Bola Tinubu\",\n",
    "    \"PDP\": \"Atiku Abubakar\"\n",
    "}\n",
    "\n",
    "del candidates[\"APC\"]\n",
    "print(candidates)"
   ]
  },
  {
   "cell_type": "code",
   "execution_count": 43,
   "metadata": {},
   "outputs": [
    {
     "name": "stdout",
     "output_type": "stream",
     "text": [
      "{}\n"
     ]
    }
   ],
   "source": [
    "candidates = {\n",
    "    \"YPP\": \"Prince Malik\",\n",
    "    \"AAC\": \"Omoyele Sowore\",\n",
    "    \"LP\": \"Peter Obi\",\n",
    "    \"APC\": \"Bola Tinubu\",\n",
    "    \"PDP\": \"Atiku Abubakar\"\n",
    "}\n",
    "\n",
    "candidates.clear()\n",
    "print(candidates)"
   ]
  },
  {
   "cell_type": "code",
   "execution_count": 44,
   "metadata": {},
   "outputs": [
    {
     "name": "stdout",
     "output_type": "stream",
     "text": [
      "{'YPP': 'Prince Malik', 'AAC': 'Omoyele Sowore', 'LP': 'Peter Obi', 'APC': 'Bola Tinubu'}\n"
     ]
    }
   ],
   "source": [
    "candidates = {\n",
    "    \"YPP\": \"Prince Malik\",\n",
    "    \"AAC\": \"Omoyele Sowore\",\n",
    "    \"LP\": \"Peter Obi\",\n",
    "    \"APC\": \"Bola Tinubu\",\n",
    "    \"PDP\": \"Atiku Abubakar\"\n",
    "}\n",
    "\n",
    "candidates.popitem()\n",
    "print(candidates)"
   ]
  },
  {
   "cell_type": "code",
   "execution_count": 45,
   "metadata": {},
   "outputs": [
    {
     "name": "stdout",
     "output_type": "stream",
     "text": [
      "{'YPP': 'Prince Malik', 'AAC': 'Omoyele Sowore', 'LP': 'Peter Obi', 'APC': 'Bola Tinubu', 'PDP': 'Atiku Abubakar'}\n"
     ]
    }
   ],
   "source": [
    "candidates = {\n",
    "    \"YPP\": \"Prince Malik\",\n",
    "    \"AAC\": \"Omoyele Sowore\",\n",
    "    \"LP\": \"Peter Obi\",\n",
    "    \"APC\": \"Bola Tinubu\",\n",
    "    \"PDP\": \"Atiku Abubakar\"\n",
    "}\n",
    "\n",
    "flagbearers = candidates.copy()\n",
    "print(flagbearers)"
   ]
  },
  {
   "cell_type": "markdown",
   "metadata": {},
   "source": [
    "4.5 Relevant Modules for a DevOps Engineer \n",
    "\n",
    "In Python, Modules are simply files with the “. py” extension containing \n",
    "Python code that can be imported inside another Python Program. In simple terms, \n",
    "we can consider a module to be the same as a code library or a file that contains \n",
    "a set of functions that you want to include in your application\n",
    "\n",
    "\n",
    "Here are the most important python modules you need to know as a DevOps Engineer. \n",
    "\n",
    "\n",
    "\n",
    "1. Requests Module \n",
    "- Useful for Web development and HTTP Requests \n",
    "- GET \n",
    "- POST \n",
    "- PUT \n",
    "- DELETE \n",
    "\n",
    "All these methods perform particular actions like adding a comment (PUT), \n",
    "retrieving data (GET), or deleting a user field (DELETE).\n",
    "\n",
    "import requests \n",
    "r = requests.get(\"https://api.github.com/repos/psf/requests\")\n",
    "print(r.json()['description'])\n",
    "print(r.json())\n",
    "\n",
    "\n",
    "2. Paramiko \n",
    "Python Paramiko allows users to log in to a virtual machine’s server using automation \n",
    "scripts. It enables the users to perform ad-hoc commands by using SSH client. \n",
    "All commands get executed in the connected remote machines.\n",
    "\n",
    "eg. \n",
    "\n",
    "ssh = paramiko.SSHClient()\n",
    "ssh.set_missing_host_key_policy(paramiko.AutoAddPolicy())\n",
    "ssh.connect(ip, username=user, password=passwd)\n",
    "stdin, stdout, stderr = ssh.exec_command(\"command\")\n",
    "out = stdout.readlines()\n",
    "\n",
    "\n",
    "3. Pandas \n",
    "Pandas module is for data manipulation. It is the most useful module for data \n",
    "science engineers. But in DevOps, Pandas helps to store the massive dump of \n",
    "data into CSV or Excel files within seconds.\n",
    "\n",
    "eg. \n",
    "import pandas as pd \n",
    "\n",
    "pd.read_json(\"file.json\").to_excel(\"output.xlsx\")\n",
    "\n",
    "\n",
    "4. selenium\n",
    "One of the most popular modules used in Python to perform testing and connect \n",
    "to different browsers. By using Selenium with Python, we can hit a URL and perform \n",
    "actions like clicking on a button.\n",
    "\n",
    "eg. \n",
    "from selenium import webdriver\n",
    "driver = webdriver.Chrome()\n",
    "driver.get(\"https://www.gspann.com\")\n",
    "\n",
    "\n",
    "5. Beautiful Soup\n",
    "Beautiful Soup in Python is the most useful module for \n",
    "pulling data from HTML and XML files\n",
    "\n",
    "eg. \n",
    "URL = “https://www.gspann.com”\n",
    "content = urllib2.urlopen(url).read()\n",
    "soup = BeautifulSoup(content)\n",
    "\n",
    "\n",
    "6. OS \n",
    "The operating system in Python is a basic module. It performs ad-hoc commands \n",
    "on the base OS, which we are executing. All commands run on the current machine.\n",
    "\n",
    "eg. \n",
    "os.system(“dir”)\n",
    "\n",
    "\n",
    "\n",
    "7. JSON \n",
    "JSON is the syntax for storing data in the form of dictionaries and lists. \n",
    "Python JSON is a built-in module that can parse the JSON data and even convert \n",
    "the other type of data into JSON format\n",
    "\n",
    "\n",
    "eg. \n",
    "x = {\n",
    "    [“data”,”stored”]\n",
    "    }\n",
    "json.dump(x)\n",
    "\n",
    "\n",
    "8. XLWT \n",
    "This module helps to create an Excel file and store data after \n",
    "customizing it according to the cells. It is a good module to work \n",
    "with Excel files, but it takes more time when compared to Pandas. \n",
    "This module allows the user to define the logic according to the requirement, \n",
    "like filling data only in a particular cell.\n",
    "\n",
    "\n",
    "eg. \n",
    "x=Workbook()\n",
    "sheet=x.add_sheet()\n",
    "sheet.write()\n",
    "\n",
    "\n",
    "Other Python Useful Modules\n",
    "- platform\n",
    "- Time "
   ]
  },
  {
   "cell_type": "code",
   "execution_count": 46,
   "metadata": {},
   "outputs": [
    {
     "name": "stdout",
     "output_type": "stream",
     "text": [
      "A simple, yet elegant, HTTP library.\n",
      "<bound method Response.json of <Response [200]>>\n"
     ]
    }
   ],
   "source": [
    "import requests \n",
    "\n",
    "r = requests.get(\"https://api.github.com/repos/psf/requests\")\n",
    "print(r.json()['description'])\n",
    "print(r.json)"
   ]
  },
  {
   "cell_type": "code",
   "execution_count": 56,
   "metadata": {},
   "outputs": [
    {
     "name": "stdout",
     "output_type": "stream",
     "text": [
      "You're NOT eligible for Mortgage. \n"
     ]
    }
   ],
   "source": [
    "income = float(input(\"Please Enter Your Income: \"))\n",
    "credit = int(input(\"Please Enter Your Credit Score: \"))\n",
    "#student = True\n",
    "student = bool(input(\"Are you a student? Enter True or False: \"))\n",
    "\n",
    "if (income >= 100000 or credit >= 700) and not student:\n",
    "    print(\"You're eligible for Mortgage. \")\n",
    "else:\n",
    "    print(\"You're NOT eligible for Mortgage. \")\n"
   ]
  },
  {
   "cell_type": "code",
   "execution_count": 58,
   "metadata": {},
   "outputs": [
    {
     "name": "stdout",
     "output_type": "stream",
     "text": [
      "You're eligible for Mortgage.\n"
     ]
    }
   ],
   "source": [
    "income = float(input(\"Please enter your income: \"))\n",
    "credit = int(input(\"Please enter your credit score: \"))\n",
    "student = True\n",
    "student = input(\"Are you a student? Enter True or False: \")\n",
    "\n",
    "if (income >= 100000 or credit >= 700) and student != \"True\" :\n",
    "    print(\"You're eligible for Mortgage.\")\n",
    "else: \n",
    "    print(\"You're not eligible for Mortgage\")\n"
   ]
  },
  {
   "cell_type": "code",
   "execution_count": 61,
   "metadata": {},
   "outputs": [
    {
     "name": "stdout",
     "output_type": "stream",
     "text": [
      "You're eligible for Mortgage. \n"
     ]
    }
   ],
   "source": [
    "income = float(input(\"Please Enter Your Income: \"))\n",
    "credit = int(input(\"Please Enter Your Credit Score: \"))\n",
    "#student = True\n",
    "student = input(\"Are you a student? Enter Yes or No: \")\n",
    "\n",
    "x = True if student == \"Yes\" else False\n",
    "\n",
    "if (income >= 100000 or credit >= 700) and not x:\n",
    "    print(\"You're eligible for Mortgage. \")\n",
    "else:\n",
    "    print(\"You're NOT eligible for Mortgage. \")\n"
   ]
  },
  {
   "cell_type": "markdown",
   "metadata": {},
   "source": [
    "LECTURE FIVE:\t2 - 3 hours Tuesday November 29th, 2022 at 7:30pm - 10pm MST"
   ]
  },
  {
   "cell_type": "markdown",
   "metadata": {},
   "source": [
    "Create 2 AWS Instances      AMI of choice = Ubuntu\n",
    "- Name one Python and in that instance, create at least 4 directories and as many files as possible with extensions:\n",
    "        txt, pdf, jng, sh, etc  except json and py. \n",
    "\n",
    "- In the other instance, Name it RemoteServer"
   ]
  },
  {
   "cell_type": "markdown",
   "metadata": {},
   "source": [
    "Python Installation in Ubuntu\n",
    "\n",
    "sudo apt-get update\n",
    "sudo apt-get upgrade \n",
    "python3 --version\n",
    "sudo mkdir <name_of_dir>\n",
    "cd <name_of_dir>\n",
    "\n",
    "python3 --version\n",
    "sudo apt-get install python3 virtualenv  \n",
    "\n",
    "- let's now activate the environment and then change our directory to project directory\n",
    "source <project_name>/bin/activate\n",
    "\n",
    "Please create create a simple python script in your cli \n",
    "eg. \n",
    "sudo vi hello.py and type in || print(\"Hello World\")\n",
    "save and quit\n",
    "\n",
    "run the script by running:\n",
    "python3 hello.py \n",
    "\n",
    "to see the script, run cat hello.py\n",
    "\n",
    "see you in 10 minutes."
   ]
  },
  {
   "cell_type": "markdown",
   "metadata": {},
   "source": []
  },
  {
   "cell_type": "markdown",
   "metadata": {},
   "source": [
    "1. Python script to clear your screen and to find list of dir and files \n",
    "This code would run on both windows and linux\n",
    "\n",
    "2. Reading and writing to text files using Python "
   ]
  },
  {
   "cell_type": "code",
   "execution_count": null,
   "metadata": {},
   "outputs": [],
   "source": [
    "# python script to clear and list dir and files.\n",
    "#!/usr/bin/env python\n",
    "\n",
    "import os \n",
    "import time \n",
    "import platform\n",
    "\n",
    "def mycode(cmd1, cmd2):\n",
    "    print(\"Please wait. Cleaning the screen...... \")\n",
    "    time.sleep(2)\n",
    "    os.system(cmd1)\n",
    "    print(\"Please wait, finding the list of dir and files\")\n",
    "    time.sleep(2) \n",
    "    os.system(cmd2)\n",
    "if platform.system() == \"Windows\":\n",
    "    mycode(\"cls\", \"dir\")\n",
    "else: \n",
    "    mycode(\"clear\", \"ls -lrt\")"
   ]
  },
  {
   "cell_type": "code",
   "execution_count": null,
   "metadata": {},
   "outputs": [],
   "source": [
    "#!/usr/bin/env python\n",
    "file_ops = open(\"random.txt\", \"w\")\n",
    "file_ops.write(\"This is the first line\\n\")\n",
    "file_ops.write(\"This is the second line\\n\")\n",
    "file_ops.write(\"This is the third line\")\n",
    "file_ops.close()"
   ]
  },
  {
   "cell_type": "code",
   "execution_count": null,
   "metadata": {},
   "outputs": [],
   "source": [
    "# Copying the contents of a file to another file\n",
    "import shutil\n",
    "\n",
    "sfile = \"/home/ubuntu/python_script/random.txt\"\n",
    "dfile = \"/home/ubuntu/python_script/acada\"\n",
    "shutil.move(sfile, dfile)\n",
    "#sfo = open(sfile, 'r')\n",
    "#content = sfo.read()\n",
    "#sfo.close()\n"
   ]
  },
  {
   "cell_type": "code",
   "execution_count": null,
   "metadata": {},
   "outputs": [],
   "source": [
    "import shutil\n",
    "\n",
    "#sfile = \"/home/ubuntu/python_script/random.txt\"\n",
    "#dfile = \"/home/ubuntu/python_script/acada\"\n",
    "sfile = input(\"Enter your source file: \")\n",
    "dfile = input(\"Enter your destination: \")\n",
    "shutil.move(sfile, dfile)"
   ]
  },
  {
   "cell_type": "code",
   "execution_count": null,
   "metadata": {},
   "outputs": [],
   "source": [
    "# Transfer files from local env to remote server\n",
    "\n",
    "import paramiko\n",
    "\n",
    "ssh = paramiko.SSHClient()\n",
    "ssh.set_missing_host_key_policy(paramiko.AutoAddPolicy)\n",
    "ssh.connect(hostname='34.213.40.18', username='ubuntu', key_filename='Oregon.pem', port=22)\n",
    "sftp_client = ssh.open_sftp()\n",
    "\n",
    "sftp_client.get('/home/ubuntu/acada_python/paramiko_download.txt', 'paramiko_downloaded.txt')\n",
    "\n",
    "sftp_client.close()\n",
    "ssh.close()\n"
   ]
  },
  {
   "cell_type": "markdown",
   "metadata": {},
   "source": [
    "PYTHON-AWS PROJECTS \n",
    "\n",
    "python <nameofpythonfile>.py        To make a directory in windows, we use ==> lmkdir  : file ==> type nul > hello.txt  \n",
    "\n",
    "1. Python script to clear your screen and to find list of dir and files \n",
    "This code would run on both windows and linux \n",
    "\n",
    "#!/usr/bin/env python\n",
    "\n",
    "import os\n",
    "import time\n",
    "import platform\n",
    "def mycode(cmd1,cmd2):\n",
    "    print(\"Please wait. Cleaning the screen....\")\n",
    "    time.sleep(2)\n",
    "    os.system(cmd1)\n",
    "    print(\"Please wait finding the list of dir and files\")\n",
    "    time.sleep(2)\n",
    "    os.system(cmd2)\n",
    "if platform.system()==\"Windows\":\n",
    "    mycode(\"cls\",\"dir\")\n",
    "else:\n",
    "    mycode('clear','ls -lrt')\n",
    "\n",
    "\n",
    "\n",
    "2. Reading and writing to text files using python \n",
    "\n",
    "#!/usr/bin/env python\n",
    "\n",
    "file_ops=open(\"random.txt\",'w')\n",
    "file_ops.write(\"This is a first line\\n\")\n",
    "file_ops.write(\"This is a second line\\n\")\n",
    "file_ops.write(\"This is a third line\")\n",
    "file_ops.close()\n",
    "\n",
    "NB: if a file already exists with this same name, running this script would override the existing content of the file.\n",
    "if the file does not exist, running this code would create a new file. \n",
    "\n",
    "\n",
    "ALTERNATIVELY \n",
    "\n",
    "data_content=[\"This is a data-1\\n\",\"This is a data-2\\n\",\"This is a data-3\"]\n",
    "file_ops = open(\"acada.txt\", 'w')\n",
    "\n",
    "file_ops.writelines(data_content)\n",
    "file_ops.close()\n",
    "\n",
    "3. Appending and reading a file \n",
    "\n",
    "-Appending:\n",
    "\n",
    "my_content = ['This is using loop-iteratioin-1', 'This is using loop-iterantion-2', 'This is using loop-iteratioin-3']\n",
    "\n",
    "fo = open(\"with_loop.txt\", 'a')\n",
    "\n",
    "for each_line in my_content:\n",
    "    fo.write(each_line + \"\\n\")\n",
    "fo.close()\n",
    "\n",
    "-Reading:\n",
    "\n",
    "fo = open(\"with_loop.txt\",\"r\")\n",
    "data = fo.read()\n",
    "fo.close()\n",
    "print(data)\n",
    "\n",
    "\n",
    "- Reading a single line n\n",
    "\n",
    "fo=open(\"with_loop.txt\",\"r\")\n",
    "print(fo.readline())\n",
    "print(fo.readline())\n",
    "fo.close()\n",
    "\n",
    "\n",
    "4. Copying the contents of a file to another file. \n",
    "\n",
    "#!/usr/bin/env python\n",
    "import shutil\n",
    "\n",
    "#sfile=\"C:\\\\Users\\\\Automation\\\\Desktop\\\\random.txt\"\n",
    "#dfile=\"C:\\\\Users\\\\Automation\\\\Downloads\\\\newrandom.txt\"\n",
    "sfile=input(\"Enter your source file: \")\n",
    "dfile=input(\"Enter your destination file: \")\n",
    "shutil.move(sfile, dfile)\n",
    "\n",
    "sfo=open(sfile,'r')\n",
    "content=sfo.read()\n",
    "sfo.close()\n",
    "\n",
    "dfo=open(dfile,'w')\n",
    "dfo.write(content)\n",
    "dfo.close()\n",
    "\n",
    "\n",
    "\n",
    "5. Working with json files \n",
    "\n",
    "import json \n",
    "#Read a json file\n",
    "\n",
    "req_file=\"myjson.json\"\n",
    "\n",
    "fo = open(req_file,'r')\n",
    "#print(fo.read())                   ==> if this was an ordinary text file, we'll run this\n",
    "print(json.load(fo))\n",
    "\n",
    "fo.close()\n",
    "\n",
    "\n",
    "- Write data(dictionary data) into a json file\n",
    "\n",
    "my_dict={'Name':'Acada Learning','Courses':['Python','Linux','Terraform','Git','AWS']}\n",
    "\n",
    "req_file = \"myinfo.json\"\n",
    "\n",
    "fo = open(req_file,'w')\n",
    "json.dump(my_dict, fo, indent=4)\n",
    "\n",
    "fo.close()\n",
    "\n",
    "\n",
    "- Importance of knowing this: It helps you to understand how to transmit and receive data between\n",
    "                              a server and web application in json format. \n",
    "\n",
    "\n",
    "6. Introduction to csv files and How to read a csv files using python?\n",
    "\n",
    "- We use csv to store tabular form of data. Data in rows and columns \n",
    "\n",
    "S_N, Name, Salary, Skill \n",
    "1, Tunde, 200000$, Python \n",
    "2, Susan, 180000$, DockerSwarm  \n",
    "3, Dela, 210000$, Kubernetes\n",
    "\n",
    "import csv \n",
    "req_file=\"C:\\\\Users\\\\Automation\\\\Desktop\\\\hi\\\\new_info.csv\"\n",
    "\n",
    "fo = open(req_file,\"r\")\n",
    "content = csv.reader(fo, delimiter=\",\")\n",
    "for each in content:\n",
    "    print(each)\n",
    "\n",
    "fo.close()\n",
    "\n",
    "\n",
    "\n",
    "7. Transfer file from local server to remote server and vice versa \n",
    "\n",
    "import paramiko\n",
    "\n",
    "ssh = paramiko.SSHClient()                                                                      ==> helps to create an SSHClient\n",
    "ssh.set_missing_host_key_policy(paramiko.AutoAddPolicy())                                       ==> set add policy \n",
    "ssh.connect(hostname='54.165.97.91',username='ec2-user',password='paramiko123',port=22)         ==> connect to the server  \n",
    "sftp_client = ssh.open_sftp()\n",
    "\n",
    "sftp_client.get('/home/ec2-user/paramiko_download.txt','paramiko_downloaded_file.txt')         ==> downloads file to local \n",
    "\n",
    "sftp_client.close()\n",
    "ssh.close()                     ==> It is important to close your ssh server after fini\n",
    "\n",
    "\n",
    "\n",
    "The End \n",
    "\n",
    "\n",
    "\n",
    "\n",
    "#sftp_client.chdir(\"/home/ec2-user\")\n",
    "#print(sftp_client.getcwd())\n",
    "#sftp_client.get('demo.txt','C:\\\\Users\\\\Automation\\\\Desktop\\\\download_file.txt')\n",
    "sftp_client.put(\"transfer_files.py\",'/home/ec2-user/transfer_files.py')\n",
    "sftp_client.close()\n",
    "ssh.close()                     ==> It is important to close your ssh server after fini\n"
   ]
  }
 ],
 "metadata": {
  "kernelspec": {
   "display_name": "Python 3.9.12 ('base')",
   "language": "python",
   "name": "python3"
  },
  "language_info": {
   "codemirror_mode": {
    "name": "ipython",
    "version": 3
   },
   "file_extension": ".py",
   "mimetype": "text/x-python",
   "name": "python",
   "nbconvert_exporter": "python",
   "pygments_lexer": "ipython3",
   "version": "3.9.12"
  },
  "orig_nbformat": 4,
  "vscode": {
   "interpreter": {
    "hash": "7d4e119998bf3d78d0b67ce87d5cc23f6589f6f4407e1fe5bc11cbb056480c52"
   }
  }
 },
 "nbformat": 4,
 "nbformat_minor": 2
}
